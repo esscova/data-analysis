{
  "nbformat": 4,
  "nbformat_minor": 0,
  "metadata": {
    "colab": {
      "provenance": []
    },
    "kernelspec": {
      "name": "python3",
      "display_name": "Python 3"
    },
    "language_info": {
      "name": "python"
    }
  },
  "cells": [
    {
      "cell_type": "markdown",
      "source": [
        "# Testes de Hipótese com Python"
      ],
      "metadata": {
        "id": "P7txgfvk6Efe"
      }
    },
    {
      "cell_type": "code",
      "execution_count": 15,
      "metadata": {
        "id": "DZKG1Nqx58Nl"
      },
      "outputs": [],
      "source": [
        "# bibliotecas\n",
        "import math\n",
        "from scipy.stats import norm, t\n",
        "import numpy as np"
      ]
    },
    {
      "cell_type": "markdown",
      "source": [
        "## 1. Teste do INMETRO em pacotes de café\n",
        "O INMETRO decidiu inspecionar pacotes de café de 500g de um a determinada\n",
        "marca. Aceita-se como razoável um desvio-padrão de 3g. Após pesar 25 unidades selecionadas em\n",
        "diversos mercados, chegou-se a uma média amostral de 502g. Pode-se afirmar o peso médio do\n",
        "produto atende às especificações? Use um nível de confiança de 95%."
      ],
      "metadata": {
        "id": "6X8P6UdH6LlP"
      }
    },
    {
      "cell_type": "code",
      "source": [
        "# dados fornecidos\n",
        "media_populacional = 500\n",
        "media_amostral = 502\n",
        "desvio_populacional = 3\n",
        "tam_amostra = 25\n",
        "alpha = 0.05"
      ],
      "metadata": {
        "id": "tXvUq-R-631V"
      },
      "execution_count": 2,
      "outputs": []
    },
    {
      "cell_type": "code",
      "source": [
        "# erro padrao\n",
        "erro_padrao = desvio_populacional / math.sqrt(tam_amostra)\n",
        "erro_padrao"
      ],
      "metadata": {
        "colab": {
          "base_uri": "https://localhost:8080/"
        },
        "id": "nGzJUr4w7fHB",
        "outputId": "66bf7409-40a9-417b-a4cc-7994594fbb2f"
      },
      "execution_count": 3,
      "outputs": [
        {
          "output_type": "execute_result",
          "data": {
            "text/plain": [
              "0.6"
            ]
          },
          "metadata": {},
          "execution_count": 3
        }
      ]
    },
    {
      "cell_type": "code",
      "source": [
        "\n",
        "# zscore\n",
        "zscore = (media_amostral - media_populacional) / erro_padrao\n",
        "\n",
        "# zcritico\n",
        "zcritico = norm.ppf(1 - alpha / 2) # bicaudal\n",
        "\n",
        "print(f'zscore: {zscore}')\n",
        "print(f'zcritico: {zcritico}')"
      ],
      "metadata": {
        "colab": {
          "base_uri": "https://localhost:8080/"
        },
        "id": "HswqRT-g7tVE",
        "outputId": "25e69392-dbd6-453f-a19e-f62bd615a234"
      },
      "execution_count": 7,
      "outputs": [
        {
          "output_type": "stream",
          "name": "stdout",
          "text": [
            "zscore: 3.3333333333333335\n",
            "zcritico: 1.959963984540054\n"
          ]
        }
      ]
    },
    {
      "cell_type": "code",
      "source": [
        "# resultados\n",
        "print(f\"Erro padrão da média: {erro_padrao:.2f}\")\n",
        "print(f\"z-score: {zscore:.2f}\")\n",
        "print(f\"z crítico (95% de confiança): ±{zcritico:.2f}\")\n",
        "\n",
        "if abs(zscore) > zcritico:\n",
        "    print(\"\\nRejeitamos a hipótese nula (H0). O peso médio do produto não atende às especificações.\")\n",
        "else:\n",
        "    print(\"\\nNão rejeitamos a hipótese nula (H0). O peso médio do produto atende às especificações.\")"
      ],
      "metadata": {
        "colab": {
          "base_uri": "https://localhost:8080/"
        },
        "id": "qtVnuC4O8KEn",
        "outputId": "088a68f7-3a7f-4df6-e1d3-8b75a3377820"
      },
      "execution_count": 9,
      "outputs": [
        {
          "output_type": "stream",
          "name": "stdout",
          "text": [
            "Erro padrão da média: 0.60\n",
            "z-score: 3.33\n",
            "z crítico (95% de confiança): ±1.96\n",
            "Rejeitamos a hipótese nula (H0). O peso médio do produto não atende às especificações.\n"
          ]
        }
      ]
    },
    {
      "cell_type": "markdown",
      "source": [
        "## 2. Preços de um determinado artigo\n",
        "Supõe-se que o preço de determinado artigo nos pontos de venda de certa localidade\n",
        "tem distribuição normal com média igual a 105,00 e desvio padrão igual a 10,00. Suspeita-se\n",
        "que, devido ao aumento da demanda, o preço do referido artigo tenha aumentado na região. Para\n",
        "verificar se isto ocorreu, um pesquisador analisou os preços deste artigo em 40 pontos de venda da\n",
        "localidade, escolhidos aleatoriamente, constatando que nos pontos de venda pesquisados o preço\n",
        "médio do artigo é R$110,00.\n",
        "Qual é a conclusão do pesquisador, admitindo-se um nível de significância de 5%?\n",
        "Utilize o valor da variável teste, o intervalo de confiança e o valor da prova."
      ],
      "metadata": {
        "id": "HBxoLDCa9F7b"
      }
    },
    {
      "cell_type": "code",
      "source": [
        "# dados fornecidos\n",
        "media_populacional = 105\n",
        "media_amostral = 110\n",
        "desvio_populacional = 10\n",
        "tam_amostra = 40\n",
        "alpha = 0.05"
      ],
      "metadata": {
        "id": "qCvLWLT69RJt"
      },
      "execution_count": 10,
      "outputs": []
    },
    {
      "cell_type": "code",
      "source": [
        "# calculando metricas\n",
        "erro_padrao = desvio_populacional / math.sqrt(tam_amostra)\n",
        "zscore = (media_amostral - media_populacional) / erro_padrao\n",
        "zcritico = norm.ppf(1 - alpha) # unilateral direito\n",
        "\n",
        "intervalo_inferior = media_amostral - zcritico * erro_padrao\n",
        "intervalo_superior = media_amostral + zcritico * erro_padrao"
      ],
      "metadata": {
        "id": "CqgjlHt1_7kT"
      },
      "execution_count": 11,
      "outputs": []
    },
    {
      "cell_type": "code",
      "source": [
        "# resultados\n",
        "print(f\"Erro padrão da média: {erro_padrao:.2f}\")\n",
        "print(f\"z-score: {zscore:.2f}\")\n",
        "print(f\"z crítico (para 95% de confiança): {zcritico:.2f}\")\n",
        "print(f\"Intervalo de Confiança (95%): ({intervalo_inferior:.2f}, {intervalo_superior:.2f})\")\n",
        "\n",
        "if zscore >= zcritico:\n",
        "    print(\"\\nRejeitamos a hipótese nula (H0). O preço médio do artigo aumentou.\")\n",
        "else:\n",
        "    print(\"\\nNão rejeitamos a hipótese nula (H0). Não há evidências suficientes para afirmar que o preço aumentou.\")"
      ],
      "metadata": {
        "colab": {
          "base_uri": "https://localhost:8080/"
        },
        "id": "qSq-bsrFAjmI",
        "outputId": "effd5cc9-2c89-43eb-b9f2-754783d95eea"
      },
      "execution_count": 14,
      "outputs": [
        {
          "output_type": "stream",
          "name": "stdout",
          "text": [
            "Erro padrão da média: 1.58\n",
            "z-score: 3.16\n",
            "z crítico (para 95% de confiança): 1.64\n",
            "Intervalo de Confiança (95%): (107.40, 112.60)\n",
            "\n",
            "Rejeitamos a hipótese nula (H0). O preço médio do artigo aumentou.\n"
          ]
        }
      ]
    },
    {
      "cell_type": "markdown",
      "source": [
        "## 3. Aumento da produtividade de uma empresa\n",
        "O tempo gasto pelos operários na montagem de determinado equipamento produzido\n",
        "por uma empresa tem distribuição normal com média igual a 85 minutos. Os operários foram\n",
        "submetidos a um processo de reciclagem com o objetivo de melhorar a produtividade. Para\n",
        "verificar se isso ocorreu, o pesquisador observou o tempo gasto na montagem de 5 unidades deste\n",
        "equipamento, escolhidas ao acaso na linha de produção, obtendo os seguintes valores, em minutos:\n",
        "81, 84, 82, 78, 77, 83, 79, 79, 76, 85.\n",
        "Considerando-se um nível de significância de 5%, pode-se afirmar que após a\n",
        "reciclagem dos operários houve aumento da produtividade?"
      ],
      "metadata": {
        "id": "gztSIfDCBP-9"
      }
    },
    {
      "cell_type": "code",
      "source": [
        "# dados fornecidos\n",
        "dados = [81, 84, 82, 78, 77, 83, 79, 79, 76, 85]\n",
        "media_populacional = 85\n",
        "tam_amostra = len(dados)\n",
        "media_amostral = np.mean(dados)\n",
        "desvio_amostral = np.std(dados, ddof=1)\n",
        "alpha = 0.05"
      ],
      "metadata": {
        "id": "HN6cUHQGBsiM"
      },
      "execution_count": 17,
      "outputs": []
    },
    {
      "cell_type": "code",
      "source": [
        "# calculando metricas\n",
        "erro_padrao = desvio_amostral / np.sqrt(tam_amostra)\n",
        "\n",
        "t_score = (media_amostral - media_populacional) / erro_padrao\n",
        "t_critico = t.ppf(1 - alpha, tam_amostra - 1) # unilateral\n",
        "\n",
        "intervalo_superior = media_amostral + t_critico * erro_padrao\n",
        "intervalo_inferior = media_amostral - t_critico * erro_padrao"
      ],
      "metadata": {
        "id": "pZGPc56UCFCM"
      },
      "execution_count": 18,
      "outputs": []
    },
    {
      "cell_type": "code",
      "source": [
        "# resultados\n",
        "print(f\"Média amostral: {media_amostral:.2f}\")\n",
        "print(f\"Desvio padrão amostral: {desvio_amostral:.2f}\")\n",
        "print(f\"Erro padrão da média: {erro_padrao:.2f}\")\n",
        "print(f\"t-score: {t_score:.2f}\")\n",
        "print(f\"t crítico (para 95% de confiança): {t_critico:.2f}\")\n",
        "print(f\"Intervalo de Confiança (95%): ({intervalo_inferior:.2f}, {intervalo_superior:.2f})\")\n",
        "\n",
        "if t_score < t_critico:\n",
        "    print(\"\\nRejeitamos a hipótese nula (H0). Houve melhoria na produtividade dos operários.\")\n",
        "else:\n",
        "    print(\"\\nNão rejeitamos a hipótese nula (H0). Não há evidências suficientes para afirmar que houve aumento da produtividade.\")"
      ],
      "metadata": {
        "colab": {
          "base_uri": "https://localhost:8080/"
        },
        "id": "q9WH2ostC2fW",
        "outputId": "e9a7d2a8-f576-46e9-a3e0-75103fb879f6"
      },
      "execution_count": 20,
      "outputs": [
        {
          "output_type": "stream",
          "name": "stdout",
          "text": [
            "Média amostral: 80.40\n",
            "Desvio padrão amostral: 3.06\n",
            "Erro padrão da média: 0.97\n",
            "t-score: -4.75\n",
            "t crítico (para 95% de confiança): 1.83\n",
            "Intervalo de Confiança (95%): (78.62, 82.18)\n",
            "\n",
            "Rejeitamos a hipótese nula (H0). Houve melhoria na produtividade dos operários.\n"
          ]
        }
      ]
    }
  ]
}