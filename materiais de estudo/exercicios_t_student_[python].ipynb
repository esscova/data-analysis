{
  "nbformat": 4,
  "nbformat_minor": 0,
  "metadata": {
    "colab": {
      "provenance": []
    },
    "kernelspec": {
      "name": "python3",
      "display_name": "Python 3"
    },
    "language_info": {
      "name": "python"
    }
  },
  "cells": [
    {
      "cell_type": "markdown",
      "source": [
        "# Exercicios T-Student com Python"
      ],
      "metadata": {
        "id": "66sjwn3dagG_"
      }
    },
    {
      "cell_type": "code",
      "execution_count": 1,
      "metadata": {
        "id": "1EfK0nOFaYLO"
      },
      "outputs": [],
      "source": [
        "# bibliotecas\n",
        "import numpy as np\n",
        "from scipy.stats import ttest_1samp, ttest_ind, ttest_rel, sem\n",
        "from scipy.stats import t"
      ]
    },
    {
      "cell_type": "markdown",
      "source": [
        "## **Exercício 1: Teste t para uma amostra**\n",
        "\n",
        "Você deseja verificar se a média de um grupo de 10 estudantes (amostra) com notas [78, 85, 88, 92, 76, 81, 89, 77, 83, 80] difere significativamente da média esperada de 85.\n",
        "\n",
        "Realize um teste t de uma amostra com um nível de significância de 5%."
      ],
      "metadata": {
        "id": "rITnJ094aulu"
      }
    },
    {
      "cell_type": "code",
      "source": [
        "data1 = np.array([78, 85, 88, 92, 76, 81, 89, 77, 83, 80])\n",
        "result1 = ttest_1samp(data1, 85)\n",
        "print(f'Estatística t: {result1.statistic} - p-value: {result1.pvalue}')"
      ],
      "metadata": {
        "colab": {
          "base_uri": "https://localhost:8080/"
        },
        "id": "t6tH-g2ecKWS",
        "outputId": "028d5eac-93a4-4ff9-cf80-31958a291f21"
      },
      "execution_count": 3,
      "outputs": [
        {
          "output_type": "stream",
          "name": "stdout",
          "text": [
            "Estatística t: -1.2149129137006183 - p-value: 0.25531001874811654\n"
          ]
        }
      ]
    },
    {
      "cell_type": "markdown",
      "source": [
        "## **Exercício 2: Teste t para duas amostras independentes**\n",
        "Dois professores usam métodos diferentes para ensinar estatística. Os desempenhos dos alunos são:\n",
        "\n",
        "Método A: [88, 92, 80, 76, 85, 90, 84]\n",
        "\n",
        "Método B: [82, 78, 88, 85, 89, 77, 81]\n",
        "\n",
        "Realize um teste t para verificar se há uma diferença significativa entre os dois métodos, considerando um nível de significância de 5%."
      ],
      "metadata": {
        "id": "NiRIsLkjbqEN"
      }
    },
    {
      "cell_type": "code",
      "source": [
        "metodo_a = np.array([88, 92, 80, 76, 85, 90, 84])\n",
        "metodo_b = np.array([82, 78, 88, 85, 89, 77, 81])\n",
        "result2 = ttest_ind(metodo_a, metodo_b)\n",
        "print(f'Estatística t: {result2.statistic} - p-value: {result2.pvalue}')"
      ],
      "metadata": {
        "colab": {
          "base_uri": "https://localhost:8080/"
        },
        "id": "9r6kEgglc9MS",
        "outputId": "98aa208d-a750-48d0-ee11-9a648dab2a44"
      },
      "execution_count": 4,
      "outputs": [
        {
          "output_type": "stream",
          "name": "stdout",
          "text": [
            "Estatística t: 0.7752861190168169 - p-value: 0.4531782930578365\n"
          ]
        }
      ]
    },
    {
      "cell_type": "markdown",
      "source": [
        "## **Exercício 3: Intervalo de confiança com base na distribuição t**\n",
        "\n",
        "Um pesquisador mede os níveis de glicose no sangue de 15 pacientes, com resultados (em mg/dL): [110, 115, 108, 112, 109, 113, 111, 114, 107, 116, 110, 109, 117, 115, 112].\n",
        "\n",
        "Calcule o intervalo de confiança de 95% para a média populacional."
      ],
      "metadata": {
        "id": "3C5yDEEFbc0m"
      }
    },
    {
      "cell_type": "code",
      "source": [
        "glicose = np.array([110, 115, 108, 112, 109, 113, 111, 114, 107, 116, 110, 109, 117, 115, 112])\n",
        "media = np.mean(glicose)\n",
        "desvio_padrao = sem(glicose)\n",
        "intervalo = t.interval(0.95, len(glicose)-1, loc=media, scale=desvio_padrao)\n",
        "print(f'Intervalo de confiança de 95%: {intervalo}')"
      ],
      "metadata": {
        "colab": {
          "base_uri": "https://localhost:8080/"
        },
        "id": "qq1PwYXfdJM8",
        "outputId": "f7c16196-4386-41a4-a15b-e4daaedf87b8"
      },
      "execution_count": 5,
      "outputs": [
        {
          "output_type": "stream",
          "name": "stdout",
          "text": [
            "Intervalo de confiança de 95%: (110.16794471618972, 113.5653886171436)\n"
          ]
        }
      ]
    },
    {
      "cell_type": "markdown",
      "source": [
        "## **Exercício 4: Teste t para amostras pareadas**\n",
        "\n",
        "Antes e depois de um programa de treinamento, os tempos de corrida (em minutos) de 8 atletas foram medidos:\n",
        "\n",
        "Antes: [15.2, 16.1, 14.8, 15.5, 16.4, 15.0, 16.0, 15.3]\n",
        "\n",
        "Depois: [14.8, 15.8, 14.5, 15.2, 16.0, 14.7, 15.7, 15.0]\n",
        "\n",
        "Realize um teste t para amostras pareadas para verificar se o programa teve um efeito significativo nos tempos, com um nível de significância de 5%."
      ],
      "metadata": {
        "id": "ca6dd2wZbH1V"
      }
    },
    {
      "cell_type": "code",
      "source": [
        "antes = np.array([15.2, 16.1, 14.8, 15.5, 16.4, 15.0, 16.0, 15.3])\n",
        "depois = np.array([14.8, 15.8, 14.5, 15.2, 16.0, 14.7, 15.7, 15.0])\n",
        "result4 = ttest_rel(antes, depois)\n",
        "print(f'Estatística t: {result4.statistic} - p-value: {result4.pvalue}')"
      ],
      "metadata": {
        "colab": {
          "base_uri": "https://localhost:8080/"
        },
        "id": "sSpZZhIqdy5X",
        "outputId": "57c30f4e-3f84-4c70-a9a1-bc90c75a1d06"
      },
      "execution_count": 10,
      "outputs": [
        {
          "output_type": "stream",
          "name": "stdout",
          "text": [
            "Estatística t: 19.85782801147574 - p-value: 2.0534041923227634e-07\n"
          ]
        }
      ]
    },
    {
      "cell_type": "markdown",
      "source": [
        "## **Exercício 5: Teste t unilateral**\n",
        "\n",
        "Você quer testar se a média dos pesos de uma amostra de 12 indivíduos [70, 72, 68, 65, 74, 69, 71, 73, 67, 68, 75, 70] é maior que 70 kg.\n",
        "\n",
        "Realize um teste t unilateral com um nível de significância de 5%."
      ],
      "metadata": {
        "id": "XqlshhEGa7DV"
      }
    },
    {
      "cell_type": "code",
      "source": [
        "pesos = np.array([70, 72, 68, 65, 74, 69, 71, 73, 67, 68, 75, 70])\n",
        "result5 = ttest_1samp(pesos, 70)\n",
        "unilateral = result5.pvalue / 2 if result5.statistic > 0 else 1 - result5.pvalue / 2\n",
        "print(f'Estatística t: {result5.statistic} - p-value unilateral: {unilateral}')"
      ],
      "metadata": {
        "colab": {
          "base_uri": "https://localhost:8080/"
        },
        "id": "mQdmSo-6atpQ",
        "outputId": "243ad03d-c2d9-4d3b-cd67-eda087ace362"
      },
      "execution_count": 13,
      "outputs": [
        {
          "output_type": "stream",
          "name": "stdout",
          "text": [
            "Estatística t: 0.19375928910904655 - p-value unilateral: 0.4249479851346991\n"
          ]
        }
      ]
    }
  ]
}