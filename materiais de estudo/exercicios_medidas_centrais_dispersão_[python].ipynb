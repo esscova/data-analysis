{
 "cells": [
  {
   "cell_type": "markdown",
   "id": "136b9b32-f190-47de-91d5-2fa719ab624b",
   "metadata": {},
   "source": [
    "# Exercícios\n",
    "\n",
    "## Medidas de centralidade e dispersão\n",
    "---"
   ]
  },
  {
   "cell_type": "code",
   "execution_count": 46,
   "id": "8b689ca4-1312-417a-b171-f26bbe4d8fcf",
   "metadata": {},
   "outputs": [],
   "source": [
    "# funções\n",
    "\n",
    "def calcular_media (dados:list) -> float:\n",
    "    return sum(dados)/len(dados)\n",
    "\n",
    "def calcular_moda(dados:list) -> list[dict[float, float]]:\n",
    "    dados_ordenados = sorted(dados)\n",
    "    contagem = {}\n",
    "    for dado in dados_ordenados:\n",
    "        if dado in contagem:\n",
    "            contagem[dado] += 1\n",
    "        else:\n",
    "            contagem[dado] = 1\n",
    "    return [k for k, v in contagem.items() if v == max(contagem.values())]\n",
    "\n",
    "def calcular_mediana(dados:list) -> float:\n",
    "    dados_ordenados = sorted(dados)\n",
    "    n = len(dados_ordenados)\n",
    "    \n",
    "    if n % 2 == 1:\n",
    "        return dados_ordenados[n // 2]\n",
    "    else:\n",
    "        meio = n // 2\n",
    "        return (dados_ordenados[meio - 1] + dados_ordenados[meio]) / 2\n",
    "\n",
    "def calcular_variancia_desvio(dados:list) -> float:\n",
    "    media = calcular_media(dados)\n",
    "    variancia = sum([(x-media)**2 for x in dados])/len(dados)\n",
    "    desvio = variancia**0.5\n",
    "    return variancia, desvio    \n",
    "\n",
    "def calcular_iqr(dados:list) -> float:\n",
    "    dados_ordenados = sorted(dados)\n",
    "    \n",
    "    q2 = calcular_mediana(dados_ordenados)\n",
    "    \n",
    "    dados_q1 = dados_ordenados[:len(dados_ordenados)//2]\n",
    "    q1 = calcular_mediana(dados_q1)\n",
    "    \n",
    "    if len(dados_ordenados) % 2 == 0:\n",
    "        dados_q3 = dados_ordenados[len(dados_ordenados)//2:]\n",
    "    else:\n",
    "        dados_q3 = dados_ordenados[len(dados_ordenados)//2 + 1:]\n",
    "    q3 = calcular_mediana(dados_q3)\n",
    "    \n",
    "    iqr = q3 - q1\n",
    "    \n",
    "    return q1, q3, iqr\n",
    "\n",
    "def detectar_outliers(dados:list):\n",
    "    q1, q3, iqr = calcular_iqr(dados)\n",
    "    \n",
    "    limite_inferior = q1 - 1.5 * iqr\n",
    "    limite_superior = q3 + 1.5 * iqr\n",
    "    \n",
    "    outliers = [x for x in dados if x < limite_inferior or x > limite_superior]\n",
    "    \n",
    "    return outliers, limite_inferior, limite_superior\n",
    "\n",
    "def comparar_distribuicoes(dados1:list, dados2:list):\n",
    "    return [ \n",
    "    {\n",
    "        'media': calcular_media(i),\n",
    "        'mediana': calcular_mediana(i),\n",
    "        'variancia':calcular_variancia_desvio(i)[0],\n",
    "        'desvio padrao':calcular_variancia_desvio(i)[1]\n",
    "    }\n",
    "        for i in [dados1,dados2]\n",
    "]"
   ]
  },
  {
   "cell_type": "markdown",
   "id": "5d931b9c-4910-4ff5-87e7-ebbcce1bc7d2",
   "metadata": {},
   "source": [
    "#### **Exercício 1: Cálculo da Média, Mediana e Moda**\n",
    "\n",
    "Dado um conjunto de dados numéricos `[15, 16, 16, 17, 18, 19, 20, 20, 21, 25]` (ex: idades de uma turma de alunos), calcule a média, a mediana e a moda.\n",
    "\n",
    "Compare os resultados e explique como cada medida pode ser útil em diferentes contextos.\n"
   ]
  },
  {
   "cell_type": "code",
   "execution_count": 22,
   "id": "464b5ced-1150-49cb-be02-c06a3c7f5a91",
   "metadata": {},
   "outputs": [
    {
     "name": "stdout",
     "output_type": "stream",
     "text": [
      "Media: 18.7\n",
      "Moda: [16, 20]\n",
      "Mediana: 18.5\n"
     ]
    }
   ],
   "source": [
    "dados = [15, 16, 16, 17, 18, 19, 20, 20, 21, 25]\n",
    "\n",
    "print(f'Media: {calcular_media(dados)}')\n",
    "print(f'Moda: {calcular_moda(dados)}')\n",
    "print(f'Mediana: {calcular_mediana(dados)}')"
   ]
  },
  {
   "cell_type": "markdown",
   "id": "72a07ae3-6223-415c-8bf1-ea0bc164b0e1",
   "metadata": {},
   "source": [
    "Com base nos dados podemos perceber que a proximidade entre a média e a mediana indica que a distribuição é relativamente simétrica, a amostra é bimodal contendo dois dados mais aparecem.\n",
    "\n",
    "- Média: 18.7\n",
    "- Moda: [16, 20]\n",
    "- Mediana: 18.5\n",
    "\n",
    "---"
   ]
  },
  {
   "cell_type": "markdown",
   "id": "1ba4bb7d-4b10-4b4b-8343-e412492ca7c2",
   "metadata": {},
   "source": [
    "#### **Exercício 2: Análise de Desvio Padrão e Variância**\n",
    "\n",
    "**Objetivo:** Entender as medidas de dispersão.\n",
    "\n",
    "1. Calcule a variância e o desvio padrão de um conjunto de dados numéricos.\n",
    "2. Interprete o que esses valores significam em relação à dispersão dos dados.\n",
    "\n",
    "**Exemplo de dados:**\n",
    "\n",
    "`[12, 14, 16, 18, 20, 22, 24]`"
   ]
  },
  {
   "cell_type": "code",
   "execution_count": 24,
   "id": "f627842b-7e4c-4784-afff-ab5c50ca1952",
   "metadata": {},
   "outputs": [
    {
     "name": "stdout",
     "output_type": "stream",
     "text": [
      "Variância: 16.0\n",
      "Desvio Padrão: 4.0\n"
     ]
    }
   ],
   "source": [
    "dados = [12, 14, 16, 18, 20, 22, 24]\n",
    "\n",
    "variancia, desvio = calcular_variancia_desvio(dados)\n",
    "print(f'Variância: {variancia}')\n",
    "print(f'Desvio Padrão: {desvio}')"
   ]
  },
  {
   "cell_type": "markdown",
   "id": "ebfc11b7-420a-42c2-950e-666f772de5f4",
   "metadata": {},
   "source": [
    "Esses resultados indicam que, em média, os valores dos dados estão afastados da média em 4 unidades (o que é o desvio padrão). A variância é 16, o que representa o valor quadrado do desvio médio.\n",
    "\n",
    "---"
   ]
  },
  {
   "cell_type": "markdown",
   "id": "c8ab4a33-9ec9-4c67-8a53-c88cd53a9bd5",
   "metadata": {},
   "source": [
    "#### **Exercício 3: Identificação de Outliers**\n",
    "\n",
    "**Objetivo:** Aplicar as medidas de dispersão para identificar valores atípicos.\n",
    "\n",
    "1. Dado um conjunto de dados, calcule o **intervalo interquartílico (IQR)** e determine os valores atípicos (outliers).\n",
    "2. Comente sobre a influência desses outliers nos cálculos da média e da mediana.\n",
    "\n",
    "**Exemplo de dados:**\n",
    "\n",
    "`[100, 102, 103, 104, 110, 115, 120, 125, 130, 200]`"
   ]
  },
  {
   "cell_type": "code",
   "execution_count": 25,
   "id": "41cd7e81-6226-43ce-8013-379e4f0d78ef",
   "metadata": {},
   "outputs": [
    {
     "name": "stdout",
     "output_type": "stream",
     "text": [
      "Média da Distribuição: 120.9\n",
      "Mediana (Q2): 112.5\n",
      "Limite inferior: 70.0\n",
      "Limite superior: 158.0\n",
      "Outliers: [200]\n"
     ]
    }
   ],
   "source": [
    "dados = [100, 102, 103, 104, 110, 115, 120, 125, 130, 200]\n",
    "media = calcular_media(dados)\n",
    "\n",
    "outliers, limite_inferior, limite_superior = detectar_outliers(dados)\n",
    "\n",
    "print(f\"Média da Distribuição: {media}\")\n",
    "print(f\"Mediana (Q2): {calcular_mediana(dados)}\")\n",
    "print(f\"Limite inferior: {limite_inferior}\")\n",
    "print(f\"Limite superior: {limite_superior}\")\n",
    "print(f\"Outliers: {outliers}\")\n",
    "\n"
   ]
  },
  {
   "cell_type": "markdown",
   "id": "a09309fe-5ccc-49c0-ba38-15bcd60610ac",
   "metadata": {},
   "source": [
    "Analisando a influência dos outliers nos cálculos da média e mediana da distribuição percebemos que o valor de 200 aumentou significativamente a média para 120.9, evidenciando a sensibilidade da média a valores extremos.\n",
    "A mediana foi 112.5, que é mais robusta, pois o valor de 200 não afetou diretamente o centro da distribuição.\n",
    "\n",
    "---"
   ]
  },
  {
   "cell_type": "markdown",
   "id": "d81e9eb4-46d5-4943-ac03-c36d58874107",
   "metadata": {},
   "source": [
    "#### **Exercício 4: Comparando Médias e Dispersões entre Grupos**\n",
    "\n",
    "**Objetivo:** Analisar distribuições e comparar características de diferentes grupos.\n",
    "\n",
    "1. Dado um conjunto de dados com diferentes categorias (por exemplo, salários de homens e mulheres), calcule as médias, medianas, variâncias e desvios padrões de cada grupo.\n",
    "2. Compare as distribuições e escreva um insight sobre as diferenças entre os grupos.\n",
    "\n",
    "**Exemplo de dados:**\n",
    "\n",
    "Homens: `[2500, 3000, 3200, 3500, 4000]`\n",
    "\n",
    "Mulheres: `[2200, 2500, 2600, 2700, 2900]`"
   ]
  },
  {
   "cell_type": "code",
   "execution_count": 38,
   "id": "f2695d00-a9ac-4061-bcca-cbd087057698",
   "metadata": {},
   "outputs": [
    {
     "name": "stdout",
     "output_type": "stream",
     "text": [
      "{'media': 3240.0, 'mediana': 3200, 'variancia': 250400.0, 'desvio padrao': 500.39984012787215}\n",
      "{'media': 2580.0, 'mediana': 2600, 'variancia': 53600.0, 'desvio padrao': 231.5167380558045}\n"
     ]
    }
   ],
   "source": [
    "homens = [2500, 3000, 3200, 3500, 4000]\n",
    "mulheres = [2200, 2500, 2600, 2700, 2900]\n",
    "\n",
    "for i in comparar_distribuicoes(homens,mulheres):\n",
    "    print(i)"
   ]
  },
  {
   "cell_type": "markdown",
   "id": "b5290f54-0c23-4992-b6f1-26ed6256e70e",
   "metadata": {},
   "source": [
    "A média e a mediana dos Homens são mais altas que as das Mulheres, indicando uma diferença salarial entre os gêneros.\n",
    "\n",
    "A maior variância e desvio padrão para os Homens sugerem que, apesar de uma média mais alta, o grupo tem uma maior diversidade salarial. \n",
    "\n",
    "Isso pode indicar que há um pequeno número de homens ganhando salários significativamente mais altos, o que aumenta a dispersão.\n",
    "\n",
    "A menor dispersão no grupo das Mulheres sugere que os salários estão mais concentrados em uma faixa salarial menor. A falta de variabilidade pode ser um indicativo de uma possível desigualdade de oportunidades ou barreiras no mercado de trabalho para as mulheres.\n",
    "\n",
    "---"
   ]
  },
  {
   "cell_type": "markdown",
   "id": "30426b62-7437-45c6-bfec-e4c6d2c421b3",
   "metadata": {},
   "source": [
    "#### **Exercício 5: Comparação de Desempenho entre Diferentes Departamentos**\n",
    "\n",
    "**Objetivo:** Analisar a dispersão e centralidade em diferentes setores.\n",
    "\n",
    "1. Dado o desempenho de dois departamentos (ex: vendas em dois setores diferentes da empresa), calcule a média, mediana, desvio padrão, variância e IQR de ambos os setores.\n",
    "2. Com base nas análises, discuta a qual departamento você atribuiria uma maior \"variabilidade\" no desempenho e qual setor apresenta um desempenho mais consistente.\n",
    "\n",
    "**Exemplo de dados:**\n",
    "\n",
    "Setor A: `[210, 215, 220, 225, 230, 235, 240, 250, 300]`\n",
    "\n",
    "Setor B: `[180, 190, 195, 205, 210, 220, 225, 230, 240, 300, 350, 500]`"
   ]
  },
  {
   "cell_type": "code",
   "execution_count": 45,
   "id": "8a15aea0-9487-4fc3-a7bf-34e324572d2e",
   "metadata": {},
   "outputs": [
    {
     "data": {
      "text/plain": [
       "({'media': 236.11111111111111,\n",
       "  'mediana': 230,\n",
       "  'variancia': 648.7654320987654,\n",
       "  'desvio padrao': 25.470874191883667},\n",
       " {'media': 253.75,\n",
       "  'mediana': 222.5,\n",
       "  'variancia': 7667.1875,\n",
       "  'desvio padrao': 87.56247769450108},\n",
       " 217.5,\n",
       " 245.0,\n",
       " 27.5,\n",
       " 200.0,\n",
       " 270.0,\n",
       " 70.0)"
      ]
     },
     "execution_count": 45,
     "metadata": {},
     "output_type": "execute_result"
    }
   ],
   "source": [
    "A = [210, 215, 220, 225, 230, 235, 240, 250, 300]\n",
    "B = [180, 190, 195, 205, 210, 220, 225, 230, 240, 300, 350, 500]\n",
    "\n",
    "setor_a, setor_b = comparar_distribuicoes(A, B)\n",
    "q1a, q3a, iqra = calcular_iqr(A)\n",
    "q1b, q3b, iqrb = calcular_iqr(B)\n",
    "\n",
    "setor_a, setor_b, q1a, q3a, iqra, q1b, q3b, iqrb"
   ]
  },
  {
   "cell_type": "markdown",
   "id": "a553527f-b32e-4cd6-b8b7-2d38a3cabc91",
   "metadata": {},
   "source": [
    "**Resultados Calculados**\n",
    "\n",
    "Para o Setor A:\n",
    "- Média: 236.11\n",
    "- Mediana: 230\n",
    "- Variância: 648.77\n",
    "- Desvio Padrão: 25.47\n",
    "- IQR: 27.5 (Q1 = 217.5, Q3 = 245.0)\n",
    "\n",
    "Para o Setor B:\n",
    "- Média: 253.75\n",
    "- Mediana: 222.5\n",
    "- Variância: 7667.19\n",
    "- Desvio Padrão: 87.56\n",
    "- IQR: 70.0 (Q1 = 200.0, Q3 = 270.0)\n",
    "\n",
    "O Setor A apresenta desempenho mais consistente, com menor dispersão e valores concentrados em torno da média enquanto o Setor B, apresenta maior variabilidade no desempenho, com outliers significativos que aumentam a dispersão e dificultam a previsibilidade."
   ]
  }
 ],
 "metadata": {
  "kernelspec": {
   "display_name": "Python 3 (ipykernel)",
   "language": "python",
   "name": "python3"
  },
  "language_info": {
   "codemirror_mode": {
    "name": "ipython",
    "version": 3
   },
   "file_extension": ".py",
   "mimetype": "text/x-python",
   "name": "python",
   "nbconvert_exporter": "python",
   "pygments_lexer": "ipython3",
   "version": "3.12.4"
  }
 },
 "nbformat": 4,
 "nbformat_minor": 5
}
