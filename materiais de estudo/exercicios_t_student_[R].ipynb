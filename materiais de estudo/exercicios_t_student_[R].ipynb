{
 "cells": [
  {
   "cell_type": "markdown",
   "id": "9599c5a8-a897-4349-8191-d84897443f9d",
   "metadata": {},
   "source": [
    "# Exercícios T-Student com R"
   ]
  },
  {
   "cell_type": "markdown",
   "id": "3481d43c-ef96-426f-87d4-87815eda4fb8",
   "metadata": {},
   "source": [
    "## **Exercício 1: Teste t para uma amostra**\n",
    "\n",
    "Você deseja verificar se a média de um grupo de 10 estudantes (amostra) com notas [78, 85, 88, 92, 76, 81, 89, 77, 83, 80] difere significativamente da média esperada de 85. \n",
    "\n",
    "Realize um teste t de uma amostra com um nível de significância de 5%."
   ]
  },
  {
   "cell_type": "code",
   "execution_count": 1,
   "id": "e8030a10-6502-459c-bcbb-83e5a4e5b800",
   "metadata": {},
   "outputs": [
    {
     "name": "stdout",
     "output_type": "stream",
     "text": [
      "\n",
      "\tOne Sample t-test\n",
      "\n",
      "data:  data1\n",
      "t = -1.2149, df = 9, p-value = 0.2553\n",
      "alternative hypothesis: true mean is not equal to 85\n",
      "95 percent confidence interval:\n",
      " 78.98982 86.81018\n",
      "sample estimates:\n",
      "mean of x \n",
      "     82.9 \n",
      "\n"
     ]
    }
   ],
   "source": [
    "data1 <- c(78, 85, 88, 92, 76, 81, 89, 77, 83, 80)\n",
    "result1 <- t.test(data1, mu = 85)\n",
    "print(result1)"
   ]
  },
  {
   "cell_type": "markdown",
   "id": "0aa7bdd2-f7e1-43f0-9f8f-2452177a86b3",
   "metadata": {},
   "source": [
    "## **Exercício 2: Teste t para duas amostras independentes** \n",
    "Dois professores usam métodos diferentes para ensinar estatística. Os desempenhos dos alunos são:\n",
    "\n",
    "Método A: [88, 92, 80, 76, 85, 90, 84] \n",
    "\n",
    "Método B: [82, 78, 88, 85, 89, 77, 81]\n",
    "\n",
    "Realize um teste t para verificar se há uma diferença significativa entre os dois métodos, considerando um nível de significância de 5%."
   ]
  },
  {
   "cell_type": "code",
   "execution_count": 2,
   "id": "1f2e371b-f58b-4086-acd8-14b968b30534",
   "metadata": {},
   "outputs": [
    {
     "name": "stdout",
     "output_type": "stream",
     "text": [
      "\n",
      "\tWelch Two Sample t-test\n",
      "\n",
      "data:  metodo_a and metodo_b\n",
      "t = 0.77529, df = 11.606, p-value = 0.4537\n",
      "alternative hypothesis: true difference in means is not equal to 0\n",
      "95 percent confidence interval:\n",
      " -3.902059  8.187773\n",
      "sample estimates:\n",
      "mean of x mean of y \n",
      " 85.00000  82.85714 \n",
      "\n"
     ]
    }
   ],
   "source": [
    "metodo_a <- c(88, 92, 80, 76, 85, 90, 84)\n",
    "metodo_b <- c(82, 78, 88, 85, 89, 77, 81)\n",
    "result2 <- t.test(metodo_a, metodo_b)\n",
    "print(result2)\n"
   ]
  },
  {
   "cell_type": "markdown",
   "id": "33da8b47-447a-43f8-b7c1-48a522e807ee",
   "metadata": {},
   "source": [
    "## **Exercício 3: Intervalo de confiança com base na distribuição t** \n",
    "\n",
    "Um pesquisador mede os níveis de glicose no sangue de 15 pacientes, com resultados (em mg/dL): [110, 115, 108, 112, 109, 113, 111, 114, 107, 116, 110, 109, 117, 115, 112]. \n",
    "\n",
    "Calcule o intervalo de confiança de 95% para a média populacional."
   ]
  },
  {
   "cell_type": "code",
   "execution_count": 3,
   "id": "3bc33e4d-b3c8-4bbc-900e-cf6141b453e7",
   "metadata": {},
   "outputs": [
    {
     "name": "stdout",
     "output_type": "stream",
     "text": [
      "[1] 110.1679 113.5654\n",
      "attr(,\"conf.level\")\n",
      "[1] 0.95\n"
     ]
    }
   ],
   "source": [
    "glicose <- c(110, 115, 108, 112, 109, 113, 111, 114, 107, 116, 110, 109, 117, 115, 112)\n",
    "media <- mean(glicose)\n",
    "desvio_padrao <- sd(glicose) / sqrt(length(glicose))\n",
    "intervalo <- t.test(glicose)$conf.int\n",
    "print(intervalo)\n"
   ]
  },
  {
   "cell_type": "markdown",
   "id": "c7fa3ada-1774-4e16-8b20-37c7c08f625d",
   "metadata": {},
   "source": [
    "## **Exercício 4: Teste t para amostras pareadas** \n",
    "\n",
    "Antes e depois de um programa de treinamento, os tempos de corrida (em minutos) de 8 atletas foram medidos:\n",
    "\n",
    "Antes: [15.2, 16.1, 14.8, 15.5, 16.4, 15.0, 16.0, 15.3] \n",
    "\n",
    "Depois: [14.8, 15.8, 14.5, 15.2, 16.0, 14.7, 15.7, 15.0] \n",
    "\n",
    "Realize um teste t para amostras pareadas para verificar se o programa teve um efeito significativo nos tempos, com um nível de significância de 5%."
   ]
  },
  {
   "cell_type": "code",
   "execution_count": 4,
   "id": "bc761809-ace6-4e7c-b5b5-308966b9d515",
   "metadata": {},
   "outputs": [
    {
     "name": "stdout",
     "output_type": "stream",
     "text": [
      "\n",
      "\tPaired t-test\n",
      "\n",
      "data:  antes and depois\n",
      "t = 19.858, df = 7, p-value = 2.053e-07\n",
      "alternative hypothesis: true mean difference is not equal to 0\n",
      "95 percent confidence interval:\n",
      " 0.2862998 0.3637002\n",
      "sample estimates:\n",
      "mean difference \n",
      "          0.325 \n",
      "\n"
     ]
    }
   ],
   "source": [
    "antes <- c(15.2, 16.1, 14.8, 15.5, 16.4, 15.0, 16.0, 15.3)\n",
    "depois <- c(14.8, 15.8, 14.5, 15.2, 16.0, 14.7, 15.7, 15.0)\n",
    "result4 <- t.test(antes, depois, paired = TRUE)\n",
    "print(result4)\n"
   ]
  },
  {
   "cell_type": "markdown",
   "id": "7b27396f-5b5b-4099-aaab-290bb9518567",
   "metadata": {},
   "source": [
    "## **Exercício 5: Teste t unilateral**\n",
    "\n",
    "Você quer testar se a média dos pesos de uma amostra de 12 indivíduos [70, 72, 68, 65, 74, 69, 71, 73, 67, 68, 75, 70] é maior que 70 kg. \n",
    "\n",
    "Realize um teste t unilateral com um nível de significância de 5%."
   ]
  },
  {
   "cell_type": "code",
   "execution_count": 5,
   "id": "79bad377-87f3-4077-b8e9-a3e2e3bad4a3",
   "metadata": {},
   "outputs": [
    {
     "name": "stdout",
     "output_type": "stream",
     "text": [
      "\n",
      "\tOne Sample t-test\n",
      "\n",
      "data:  pesos\n",
      "t = 0.19376, df = 11, p-value = 0.4249\n",
      "alternative hypothesis: true mean is greater than 70\n",
      "95 percent confidence interval:\n",
      " 68.62189      Inf\n",
      "sample estimates:\n",
      "mean of x \n",
      " 70.16667 \n",
      "\n"
     ]
    }
   ],
   "source": [
    "pesos <- c(70, 72, 68, 65, 74, 69, 71, 73, 67, 68, 75, 70)\n",
    "result5 <- t.test(pesos, mu = 70, alternative = \"greater\")\n",
    "print(result5)"
   ]
  }
 ],
 "metadata": {
  "kernelspec": {
   "display_name": "R",
   "language": "R",
   "name": "ir"
  },
  "language_info": {
   "codemirror_mode": "r",
   "file_extension": ".r",
   "mimetype": "text/x-r-source",
   "name": "R",
   "pygments_lexer": "r",
   "version": "4.3.1"
  }
 },
 "nbformat": 4,
 "nbformat_minor": 5
}
