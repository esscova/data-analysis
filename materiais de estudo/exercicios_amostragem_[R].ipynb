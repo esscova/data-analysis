{
 "cells": [
  {
   "cell_type": "markdown",
   "id": "7fb6ee48-8635-4350-b03c-7c8a79ba7988",
   "metadata": {},
   "source": [
    "# Exercícios em R sobre Amostragem"
   ]
  },
  {
   "cell_type": "markdown",
   "id": "5ae3646e-6c0c-400e-8d6d-7c669956af13",
   "metadata": {
    "jp-MarkdownHeadingCollapsed": true
   },
   "source": [
    "### Exercício 1: Amostragem Simples Aleatória\n",
    "\n",
    "**Objetivo:** Realizar uma amostragem simples aleatória com e sem reposição na base de dados **`iris`**.\n",
    "\n",
    "### Tarefa 1.1:\n",
    "\n",
    "1. Carregue a base de dados `iris`.\n",
    "2. Realize uma amostragem simples aleatória de 20 observações **com reposição** da base `iris`.\n",
    "3. Realize uma amostragem simples aleatória de 20 observações **sem reposição** da base `iris`.\n",
    "4. Compare as duas amostras, verificando se há elementos repetidos na amostra com reposição.\n",
    "\n",
    "### Dicas:\n",
    "\n",
    "- Use a função `sample()` para realizar a amostragem.\n",
    "- Lembre-se de usar o parâmetro `replace = TRUE` para amostragem com reposição e `replace = FALSE` para amostragem sem reposição."
   ]
  },
  {
   "cell_type": "code",
   "execution_count": 4,
   "id": "2e6bf6cd-9d07-4b4a-a1cc-c9906d54ece1",
   "metadata": {},
   "outputs": [],
   "source": [
    "data(iris)"
   ]
  },
  {
   "cell_type": "code",
   "execution_count": 7,
   "id": "e9a5f7e9-d5c3-4687-b542-9503e6c14d43",
   "metadata": {},
   "outputs": [
    {
     "data": {
      "text/html": [
       "<table class=\"dataframe\">\n",
       "<caption>A data.frame: 6 × 5</caption>\n",
       "<thead>\n",
       "\t<tr><th></th><th scope=col>Sepal.Length</th><th scope=col>Sepal.Width</th><th scope=col>Petal.Length</th><th scope=col>Petal.Width</th><th scope=col>Species</th></tr>\n",
       "\t<tr><th></th><th scope=col>&lt;dbl&gt;</th><th scope=col>&lt;dbl&gt;</th><th scope=col>&lt;dbl&gt;</th><th scope=col>&lt;dbl&gt;</th><th scope=col>&lt;fct&gt;</th></tr>\n",
       "</thead>\n",
       "<tbody>\n",
       "\t<tr><th scope=row>18</th><td>5.1</td><td>3.5</td><td>1.4</td><td>0.3</td><td>setosa    </td></tr>\n",
       "\t<tr><th scope=row>65</th><td>5.6</td><td>2.9</td><td>3.6</td><td>1.3</td><td>versicolor</td></tr>\n",
       "\t<tr><th scope=row>32</th><td>5.4</td><td>3.4</td><td>1.5</td><td>0.4</td><td>setosa    </td></tr>\n",
       "\t<tr><th scope=row>139</th><td>6.0</td><td>3.0</td><td>4.8</td><td>1.8</td><td>virginica </td></tr>\n",
       "\t<tr><th scope=row>104</th><td>6.3</td><td>2.9</td><td>5.6</td><td>1.8</td><td>virginica </td></tr>\n",
       "\t<tr><th scope=row>141</th><td>6.7</td><td>3.1</td><td>5.6</td><td>2.4</td><td>virginica </td></tr>\n",
       "</tbody>\n",
       "</table>\n"
      ],
      "text/latex": [
       "A data.frame: 6 × 5\n",
       "\\begin{tabular}{r|lllll}\n",
       "  & Sepal.Length & Sepal.Width & Petal.Length & Petal.Width & Species\\\\\n",
       "  & <dbl> & <dbl> & <dbl> & <dbl> & <fct>\\\\\n",
       "\\hline\n",
       "\t18 & 5.1 & 3.5 & 1.4 & 0.3 & setosa    \\\\\n",
       "\t65 & 5.6 & 2.9 & 3.6 & 1.3 & versicolor\\\\\n",
       "\t32 & 5.4 & 3.4 & 1.5 & 0.4 & setosa    \\\\\n",
       "\t139 & 6.0 & 3.0 & 4.8 & 1.8 & virginica \\\\\n",
       "\t104 & 6.3 & 2.9 & 5.6 & 1.8 & virginica \\\\\n",
       "\t141 & 6.7 & 3.1 & 5.6 & 2.4 & virginica \\\\\n",
       "\\end{tabular}\n"
      ],
      "text/markdown": [
       "\n",
       "A data.frame: 6 × 5\n",
       "\n",
       "| <!--/--> | Sepal.Length &lt;dbl&gt; | Sepal.Width &lt;dbl&gt; | Petal.Length &lt;dbl&gt; | Petal.Width &lt;dbl&gt; | Species &lt;fct&gt; |\n",
       "|---|---|---|---|---|---|\n",
       "| 18 | 5.1 | 3.5 | 1.4 | 0.3 | setosa     |\n",
       "| 65 | 5.6 | 2.9 | 3.6 | 1.3 | versicolor |\n",
       "| 32 | 5.4 | 3.4 | 1.5 | 0.4 | setosa     |\n",
       "| 139 | 6.0 | 3.0 | 4.8 | 1.8 | virginica  |\n",
       "| 104 | 6.3 | 2.9 | 5.6 | 1.8 | virginica  |\n",
       "| 141 | 6.7 | 3.1 | 5.6 | 2.4 | virginica  |\n",
       "\n"
      ],
      "text/plain": [
       "    Sepal.Length Sepal.Width Petal.Length Petal.Width Species   \n",
       "18  5.1          3.5         1.4          0.3         setosa    \n",
       "65  5.6          2.9         3.6          1.3         versicolor\n",
       "32  5.4          3.4         1.5          0.4         setosa    \n",
       "139 6.0          3.0         4.8          1.8         virginica \n",
       "104 6.3          2.9         5.6          1.8         virginica \n",
       "141 6.7          3.1         5.6          2.4         virginica "
      ]
     },
     "metadata": {},
     "output_type": "display_data"
    },
    {
     "data": {
      "text/html": [
       "<style>\n",
       ".list-inline {list-style: none; margin:0; padding: 0}\n",
       ".list-inline>li {display: inline-block}\n",
       ".list-inline>li:not(:last-child)::after {content: \"\\00b7\"; padding: 0 .5ex}\n",
       "</style>\n",
       "<ol class=list-inline><li>20</li><li>5</li></ol>\n"
      ],
      "text/latex": [
       "\\begin{enumerate*}\n",
       "\\item 20\n",
       "\\item 5\n",
       "\\end{enumerate*}\n"
      ],
      "text/markdown": [
       "1. 20\n",
       "2. 5\n",
       "\n",
       "\n"
      ],
      "text/plain": [
       "[1] 20  5"
      ]
     },
     "metadata": {},
     "output_type": "display_data"
    }
   ],
   "source": [
    "tam_amostra <- 20\n",
    "amostra_simples_com_reposicao <- iris[sample(1:nrow(iris), tam_amostra, replace = TRUE), ]\n",
    "head(amostra_simples_com_reposicao)\n",
    "dim(amostra_simples_com_reposicao)"
   ]
  },
  {
   "cell_type": "code",
   "execution_count": 9,
   "id": "c0b6e5fe-42a1-4d8b-a677-dfe6b96ff874",
   "metadata": {},
   "outputs": [
    {
     "data": {
      "text/html": [
       "<table class=\"dataframe\">\n",
       "<caption>A data.frame: 6 × 5</caption>\n",
       "<thead>\n",
       "\t<tr><th></th><th scope=col>Sepal.Length</th><th scope=col>Sepal.Width</th><th scope=col>Petal.Length</th><th scope=col>Petal.Width</th><th scope=col>Species</th></tr>\n",
       "\t<tr><th></th><th scope=col>&lt;dbl&gt;</th><th scope=col>&lt;dbl&gt;</th><th scope=col>&lt;dbl&gt;</th><th scope=col>&lt;dbl&gt;</th><th scope=col>&lt;fct&gt;</th></tr>\n",
       "</thead>\n",
       "<tbody>\n",
       "\t<tr><th scope=row>54</th><td>5.5</td><td>2.3</td><td>4.0</td><td>1.3</td><td>versicolor</td></tr>\n",
       "\t<tr><th scope=row>127</th><td>6.2</td><td>2.8</td><td>4.8</td><td>1.8</td><td>virginica </td></tr>\n",
       "\t<tr><th scope=row>51</th><td>7.0</td><td>3.2</td><td>4.7</td><td>1.4</td><td>versicolor</td></tr>\n",
       "\t<tr><th scope=row>17</th><td>5.4</td><td>3.9</td><td>1.3</td><td>0.4</td><td>setosa    </td></tr>\n",
       "\t<tr><th scope=row>81</th><td>5.5</td><td>2.4</td><td>3.8</td><td>1.1</td><td>versicolor</td></tr>\n",
       "\t<tr><th scope=row>138</th><td>6.4</td><td>3.1</td><td>5.5</td><td>1.8</td><td>virginica </td></tr>\n",
       "</tbody>\n",
       "</table>\n"
      ],
      "text/latex": [
       "A data.frame: 6 × 5\n",
       "\\begin{tabular}{r|lllll}\n",
       "  & Sepal.Length & Sepal.Width & Petal.Length & Petal.Width & Species\\\\\n",
       "  & <dbl> & <dbl> & <dbl> & <dbl> & <fct>\\\\\n",
       "\\hline\n",
       "\t54 & 5.5 & 2.3 & 4.0 & 1.3 & versicolor\\\\\n",
       "\t127 & 6.2 & 2.8 & 4.8 & 1.8 & virginica \\\\\n",
       "\t51 & 7.0 & 3.2 & 4.7 & 1.4 & versicolor\\\\\n",
       "\t17 & 5.4 & 3.9 & 1.3 & 0.4 & setosa    \\\\\n",
       "\t81 & 5.5 & 2.4 & 3.8 & 1.1 & versicolor\\\\\n",
       "\t138 & 6.4 & 3.1 & 5.5 & 1.8 & virginica \\\\\n",
       "\\end{tabular}\n"
      ],
      "text/markdown": [
       "\n",
       "A data.frame: 6 × 5\n",
       "\n",
       "| <!--/--> | Sepal.Length &lt;dbl&gt; | Sepal.Width &lt;dbl&gt; | Petal.Length &lt;dbl&gt; | Petal.Width &lt;dbl&gt; | Species &lt;fct&gt; |\n",
       "|---|---|---|---|---|---|\n",
       "| 54 | 5.5 | 2.3 | 4.0 | 1.3 | versicolor |\n",
       "| 127 | 6.2 | 2.8 | 4.8 | 1.8 | virginica  |\n",
       "| 51 | 7.0 | 3.2 | 4.7 | 1.4 | versicolor |\n",
       "| 17 | 5.4 | 3.9 | 1.3 | 0.4 | setosa     |\n",
       "| 81 | 5.5 | 2.4 | 3.8 | 1.1 | versicolor |\n",
       "| 138 | 6.4 | 3.1 | 5.5 | 1.8 | virginica  |\n",
       "\n"
      ],
      "text/plain": [
       "    Sepal.Length Sepal.Width Petal.Length Petal.Width Species   \n",
       "54  5.5          2.3         4.0          1.3         versicolor\n",
       "127 6.2          2.8         4.8          1.8         virginica \n",
       "51  7.0          3.2         4.7          1.4         versicolor\n",
       "17  5.4          3.9         1.3          0.4         setosa    \n",
       "81  5.5          2.4         3.8          1.1         versicolor\n",
       "138 6.4          3.1         5.5          1.8         virginica "
      ]
     },
     "metadata": {},
     "output_type": "display_data"
    },
    {
     "data": {
      "text/html": [
       "<style>\n",
       ".list-inline {list-style: none; margin:0; padding: 0}\n",
       ".list-inline>li {display: inline-block}\n",
       ".list-inline>li:not(:last-child)::after {content: \"\\00b7\"; padding: 0 .5ex}\n",
       "</style>\n",
       "<ol class=list-inline><li>20</li><li>5</li></ol>\n"
      ],
      "text/latex": [
       "\\begin{enumerate*}\n",
       "\\item 20\n",
       "\\item 5\n",
       "\\end{enumerate*}\n"
      ],
      "text/markdown": [
       "1. 20\n",
       "2. 5\n",
       "\n",
       "\n"
      ],
      "text/plain": [
       "[1] 20  5"
      ]
     },
     "metadata": {},
     "output_type": "display_data"
    }
   ],
   "source": [
    "amostra_simples_sem_reposicao <- iris[sample(1:nrow(iris), tam_amostra, replace = FALSE),]\n",
    "head(amostra_simples_sem_reposicao)\n",
    "dim(amostra_simples_sem_reposicao)"
   ]
  },
  {
   "cell_type": "code",
   "execution_count": 11,
   "id": "73929111-36fd-4217-9bf9-13f92be7c5bd",
   "metadata": {},
   "outputs": [
    {
     "data": {
      "text/html": [
       "FALSE"
      ],
      "text/latex": [
       "FALSE"
      ],
      "text/markdown": [
       "FALSE"
      ],
      "text/plain": [
       "[1] FALSE"
      ]
     },
     "metadata": {},
     "output_type": "display_data"
    }
   ],
   "source": [
    "identical(amostra_simples_com_reposicao,amostra_simples_sem_reposicao)"
   ]
  },
  {
   "cell_type": "markdown",
   "id": "8729d708-092d-408f-ba99-39abde8dfc2e",
   "metadata": {},
   "source": [
    "### Exercício 2: Amostragem Sistemática\n",
    "\n",
    "**Objetivo:** Realizar uma amostragem sistemática da base de dados **`iris`**.\n",
    "\n",
    "### Tarefa 2.1:\n",
    "\n",
    "1. Carregue a base de dados `iris`.\n",
    "2. Selecione uma amostra sistemática de 30 observações da base `iris`, com um intervalo de seleção de 5.\n",
    "3. Alterando o valor do intervalo, selecione amostras de 20 e 40 observações.\n",
    "4. Compare as amostras geradas com diferentes intervalos e explique como o intervalo afeta o processo de amostragem.\n",
    "\n",
    "### Dicas:\n",
    "\n",
    "- Calcule o intervalo de amostragem dividindo o número de observações pela quantidade de amostras desejadas.\n",
    "- Use `seq()` para realizar a seleção sistemática."
   ]
  },
  {
   "cell_type": "code",
   "execution_count": 2,
   "id": "4829f907-6d95-47f8-9a19-5faca1c4333c",
   "metadata": {},
   "outputs": [],
   "source": [
    "data(iris)"
   ]
  },
  {
   "cell_type": "code",
   "execution_count": 7,
   "id": "7ba030ba-c897-4b6d-84e5-ae873b03f5fd",
   "metadata": {},
   "outputs": [
    {
     "data": {
      "text/html": [
       "<table class=\"dataframe\">\n",
       "<caption>A data.frame: 30 × 5</caption>\n",
       "<thead>\n",
       "\t<tr><th></th><th scope=col>Sepal.Length</th><th scope=col>Sepal.Width</th><th scope=col>Petal.Length</th><th scope=col>Petal.Width</th><th scope=col>Species</th></tr>\n",
       "\t<tr><th></th><th scope=col>&lt;dbl&gt;</th><th scope=col>&lt;dbl&gt;</th><th scope=col>&lt;dbl&gt;</th><th scope=col>&lt;dbl&gt;</th><th scope=col>&lt;fct&gt;</th></tr>\n",
       "</thead>\n",
       "<tbody>\n",
       "\t<tr><th scope=row>1</th><td>5.1</td><td>3.5</td><td>1.4</td><td>0.2</td><td>setosa    </td></tr>\n",
       "\t<tr><th scope=row>6</th><td>5.4</td><td>3.9</td><td>1.7</td><td>0.4</td><td>setosa    </td></tr>\n",
       "\t<tr><th scope=row>11</th><td>5.4</td><td>3.7</td><td>1.5</td><td>0.2</td><td>setosa    </td></tr>\n",
       "\t<tr><th scope=row>16</th><td>5.7</td><td>4.4</td><td>1.5</td><td>0.4</td><td>setosa    </td></tr>\n",
       "\t<tr><th scope=row>21</th><td>5.4</td><td>3.4</td><td>1.7</td><td>0.2</td><td>setosa    </td></tr>\n",
       "\t<tr><th scope=row>26</th><td>5.0</td><td>3.0</td><td>1.6</td><td>0.2</td><td>setosa    </td></tr>\n",
       "\t<tr><th scope=row>31</th><td>4.8</td><td>3.1</td><td>1.6</td><td>0.2</td><td>setosa    </td></tr>\n",
       "\t<tr><th scope=row>36</th><td>5.0</td><td>3.2</td><td>1.2</td><td>0.2</td><td>setosa    </td></tr>\n",
       "\t<tr><th scope=row>41</th><td>5.0</td><td>3.5</td><td>1.3</td><td>0.3</td><td>setosa    </td></tr>\n",
       "\t<tr><th scope=row>46</th><td>4.8</td><td>3.0</td><td>1.4</td><td>0.3</td><td>setosa    </td></tr>\n",
       "\t<tr><th scope=row>51</th><td>7.0</td><td>3.2</td><td>4.7</td><td>1.4</td><td>versicolor</td></tr>\n",
       "\t<tr><th scope=row>56</th><td>5.7</td><td>2.8</td><td>4.5</td><td>1.3</td><td>versicolor</td></tr>\n",
       "\t<tr><th scope=row>61</th><td>5.0</td><td>2.0</td><td>3.5</td><td>1.0</td><td>versicolor</td></tr>\n",
       "\t<tr><th scope=row>66</th><td>6.7</td><td>3.1</td><td>4.4</td><td>1.4</td><td>versicolor</td></tr>\n",
       "\t<tr><th scope=row>71</th><td>5.9</td><td>3.2</td><td>4.8</td><td>1.8</td><td>versicolor</td></tr>\n",
       "\t<tr><th scope=row>76</th><td>6.6</td><td>3.0</td><td>4.4</td><td>1.4</td><td>versicolor</td></tr>\n",
       "\t<tr><th scope=row>81</th><td>5.5</td><td>2.4</td><td>3.8</td><td>1.1</td><td>versicolor</td></tr>\n",
       "\t<tr><th scope=row>86</th><td>6.0</td><td>3.4</td><td>4.5</td><td>1.6</td><td>versicolor</td></tr>\n",
       "\t<tr><th scope=row>91</th><td>5.5</td><td>2.6</td><td>4.4</td><td>1.2</td><td>versicolor</td></tr>\n",
       "\t<tr><th scope=row>96</th><td>5.7</td><td>3.0</td><td>4.2</td><td>1.2</td><td>versicolor</td></tr>\n",
       "\t<tr><th scope=row>101</th><td>6.3</td><td>3.3</td><td>6.0</td><td>2.5</td><td>virginica </td></tr>\n",
       "\t<tr><th scope=row>106</th><td>7.6</td><td>3.0</td><td>6.6</td><td>2.1</td><td>virginica </td></tr>\n",
       "\t<tr><th scope=row>111</th><td>6.5</td><td>3.2</td><td>5.1</td><td>2.0</td><td>virginica </td></tr>\n",
       "\t<tr><th scope=row>116</th><td>6.4</td><td>3.2</td><td>5.3</td><td>2.3</td><td>virginica </td></tr>\n",
       "\t<tr><th scope=row>121</th><td>6.9</td><td>3.2</td><td>5.7</td><td>2.3</td><td>virginica </td></tr>\n",
       "\t<tr><th scope=row>126</th><td>7.2</td><td>3.2</td><td>6.0</td><td>1.8</td><td>virginica </td></tr>\n",
       "\t<tr><th scope=row>131</th><td>7.4</td><td>2.8</td><td>6.1</td><td>1.9</td><td>virginica </td></tr>\n",
       "\t<tr><th scope=row>136</th><td>7.7</td><td>3.0</td><td>6.1</td><td>2.3</td><td>virginica </td></tr>\n",
       "\t<tr><th scope=row>141</th><td>6.7</td><td>3.1</td><td>5.6</td><td>2.4</td><td>virginica </td></tr>\n",
       "\t<tr><th scope=row>146</th><td>6.7</td><td>3.0</td><td>5.2</td><td>2.3</td><td>virginica </td></tr>\n",
       "</tbody>\n",
       "</table>\n"
      ],
      "text/latex": [
       "A data.frame: 30 × 5\n",
       "\\begin{tabular}{r|lllll}\n",
       "  & Sepal.Length & Sepal.Width & Petal.Length & Petal.Width & Species\\\\\n",
       "  & <dbl> & <dbl> & <dbl> & <dbl> & <fct>\\\\\n",
       "\\hline\n",
       "\t1 & 5.1 & 3.5 & 1.4 & 0.2 & setosa    \\\\\n",
       "\t6 & 5.4 & 3.9 & 1.7 & 0.4 & setosa    \\\\\n",
       "\t11 & 5.4 & 3.7 & 1.5 & 0.2 & setosa    \\\\\n",
       "\t16 & 5.7 & 4.4 & 1.5 & 0.4 & setosa    \\\\\n",
       "\t21 & 5.4 & 3.4 & 1.7 & 0.2 & setosa    \\\\\n",
       "\t26 & 5.0 & 3.0 & 1.6 & 0.2 & setosa    \\\\\n",
       "\t31 & 4.8 & 3.1 & 1.6 & 0.2 & setosa    \\\\\n",
       "\t36 & 5.0 & 3.2 & 1.2 & 0.2 & setosa    \\\\\n",
       "\t41 & 5.0 & 3.5 & 1.3 & 0.3 & setosa    \\\\\n",
       "\t46 & 4.8 & 3.0 & 1.4 & 0.3 & setosa    \\\\\n",
       "\t51 & 7.0 & 3.2 & 4.7 & 1.4 & versicolor\\\\\n",
       "\t56 & 5.7 & 2.8 & 4.5 & 1.3 & versicolor\\\\\n",
       "\t61 & 5.0 & 2.0 & 3.5 & 1.0 & versicolor\\\\\n",
       "\t66 & 6.7 & 3.1 & 4.4 & 1.4 & versicolor\\\\\n",
       "\t71 & 5.9 & 3.2 & 4.8 & 1.8 & versicolor\\\\\n",
       "\t76 & 6.6 & 3.0 & 4.4 & 1.4 & versicolor\\\\\n",
       "\t81 & 5.5 & 2.4 & 3.8 & 1.1 & versicolor\\\\\n",
       "\t86 & 6.0 & 3.4 & 4.5 & 1.6 & versicolor\\\\\n",
       "\t91 & 5.5 & 2.6 & 4.4 & 1.2 & versicolor\\\\\n",
       "\t96 & 5.7 & 3.0 & 4.2 & 1.2 & versicolor\\\\\n",
       "\t101 & 6.3 & 3.3 & 6.0 & 2.5 & virginica \\\\\n",
       "\t106 & 7.6 & 3.0 & 6.6 & 2.1 & virginica \\\\\n",
       "\t111 & 6.5 & 3.2 & 5.1 & 2.0 & virginica \\\\\n",
       "\t116 & 6.4 & 3.2 & 5.3 & 2.3 & virginica \\\\\n",
       "\t121 & 6.9 & 3.2 & 5.7 & 2.3 & virginica \\\\\n",
       "\t126 & 7.2 & 3.2 & 6.0 & 1.8 & virginica \\\\\n",
       "\t131 & 7.4 & 2.8 & 6.1 & 1.9 & virginica \\\\\n",
       "\t136 & 7.7 & 3.0 & 6.1 & 2.3 & virginica \\\\\n",
       "\t141 & 6.7 & 3.1 & 5.6 & 2.4 & virginica \\\\\n",
       "\t146 & 6.7 & 3.0 & 5.2 & 2.3 & virginica \\\\\n",
       "\\end{tabular}\n"
      ],
      "text/markdown": [
       "\n",
       "A data.frame: 30 × 5\n",
       "\n",
       "| <!--/--> | Sepal.Length &lt;dbl&gt; | Sepal.Width &lt;dbl&gt; | Petal.Length &lt;dbl&gt; | Petal.Width &lt;dbl&gt; | Species &lt;fct&gt; |\n",
       "|---|---|---|---|---|---|\n",
       "| 1 | 5.1 | 3.5 | 1.4 | 0.2 | setosa     |\n",
       "| 6 | 5.4 | 3.9 | 1.7 | 0.4 | setosa     |\n",
       "| 11 | 5.4 | 3.7 | 1.5 | 0.2 | setosa     |\n",
       "| 16 | 5.7 | 4.4 | 1.5 | 0.4 | setosa     |\n",
       "| 21 | 5.4 | 3.4 | 1.7 | 0.2 | setosa     |\n",
       "| 26 | 5.0 | 3.0 | 1.6 | 0.2 | setosa     |\n",
       "| 31 | 4.8 | 3.1 | 1.6 | 0.2 | setosa     |\n",
       "| 36 | 5.0 | 3.2 | 1.2 | 0.2 | setosa     |\n",
       "| 41 | 5.0 | 3.5 | 1.3 | 0.3 | setosa     |\n",
       "| 46 | 4.8 | 3.0 | 1.4 | 0.3 | setosa     |\n",
       "| 51 | 7.0 | 3.2 | 4.7 | 1.4 | versicolor |\n",
       "| 56 | 5.7 | 2.8 | 4.5 | 1.3 | versicolor |\n",
       "| 61 | 5.0 | 2.0 | 3.5 | 1.0 | versicolor |\n",
       "| 66 | 6.7 | 3.1 | 4.4 | 1.4 | versicolor |\n",
       "| 71 | 5.9 | 3.2 | 4.8 | 1.8 | versicolor |\n",
       "| 76 | 6.6 | 3.0 | 4.4 | 1.4 | versicolor |\n",
       "| 81 | 5.5 | 2.4 | 3.8 | 1.1 | versicolor |\n",
       "| 86 | 6.0 | 3.4 | 4.5 | 1.6 | versicolor |\n",
       "| 91 | 5.5 | 2.6 | 4.4 | 1.2 | versicolor |\n",
       "| 96 | 5.7 | 3.0 | 4.2 | 1.2 | versicolor |\n",
       "| 101 | 6.3 | 3.3 | 6.0 | 2.5 | virginica  |\n",
       "| 106 | 7.6 | 3.0 | 6.6 | 2.1 | virginica  |\n",
       "| 111 | 6.5 | 3.2 | 5.1 | 2.0 | virginica  |\n",
       "| 116 | 6.4 | 3.2 | 5.3 | 2.3 | virginica  |\n",
       "| 121 | 6.9 | 3.2 | 5.7 | 2.3 | virginica  |\n",
       "| 126 | 7.2 | 3.2 | 6.0 | 1.8 | virginica  |\n",
       "| 131 | 7.4 | 2.8 | 6.1 | 1.9 | virginica  |\n",
       "| 136 | 7.7 | 3.0 | 6.1 | 2.3 | virginica  |\n",
       "| 141 | 6.7 | 3.1 | 5.6 | 2.4 | virginica  |\n",
       "| 146 | 6.7 | 3.0 | 5.2 | 2.3 | virginica  |\n",
       "\n"
      ],
      "text/plain": [
       "    Sepal.Length Sepal.Width Petal.Length Petal.Width Species   \n",
       "1   5.1          3.5         1.4          0.2         setosa    \n",
       "6   5.4          3.9         1.7          0.4         setosa    \n",
       "11  5.4          3.7         1.5          0.2         setosa    \n",
       "16  5.7          4.4         1.5          0.4         setosa    \n",
       "21  5.4          3.4         1.7          0.2         setosa    \n",
       "26  5.0          3.0         1.6          0.2         setosa    \n",
       "31  4.8          3.1         1.6          0.2         setosa    \n",
       "36  5.0          3.2         1.2          0.2         setosa    \n",
       "41  5.0          3.5         1.3          0.3         setosa    \n",
       "46  4.8          3.0         1.4          0.3         setosa    \n",
       "51  7.0          3.2         4.7          1.4         versicolor\n",
       "56  5.7          2.8         4.5          1.3         versicolor\n",
       "61  5.0          2.0         3.5          1.0         versicolor\n",
       "66  6.7          3.1         4.4          1.4         versicolor\n",
       "71  5.9          3.2         4.8          1.8         versicolor\n",
       "76  6.6          3.0         4.4          1.4         versicolor\n",
       "81  5.5          2.4         3.8          1.1         versicolor\n",
       "86  6.0          3.4         4.5          1.6         versicolor\n",
       "91  5.5          2.6         4.4          1.2         versicolor\n",
       "96  5.7          3.0         4.2          1.2         versicolor\n",
       "101 6.3          3.3         6.0          2.5         virginica \n",
       "106 7.6          3.0         6.6          2.1         virginica \n",
       "111 6.5          3.2         5.1          2.0         virginica \n",
       "116 6.4          3.2         5.3          2.3         virginica \n",
       "121 6.9          3.2         5.7          2.3         virginica \n",
       "126 7.2          3.2         6.0          1.8         virginica \n",
       "131 7.4          2.8         6.1          1.9         virginica \n",
       "136 7.7          3.0         6.1          2.3         virginica \n",
       "141 6.7          3.1         5.6          2.4         virginica \n",
       "146 6.7          3.0         5.2          2.3         virginica "
      ]
     },
     "metadata": {},
     "output_type": "display_data"
    }
   ],
   "source": [
    "# 30 observações\n",
    "n_total <- nrow(iris)\n",
    "n_amostra <- 30\n",
    "\n",
    "intervalo <- floor(n_total / n_amostra)\n",
    "indices <- seq(1, n_total, by = intervalo)\n",
    "\n",
    "amostra_30 <- iris[indices, ]\n",
    "amostra_30\n"
   ]
  },
  {
   "cell_type": "code",
   "execution_count": 8,
   "id": "2686e5a5-5946-4f16-84e5-567fc6f67a03",
   "metadata": {},
   "outputs": [
    {
     "data": {
      "text/html": [
       "<table class=\"dataframe\">\n",
       "<caption>A data.frame: 22 × 5</caption>\n",
       "<thead>\n",
       "\t<tr><th></th><th scope=col>Sepal.Length</th><th scope=col>Sepal.Width</th><th scope=col>Petal.Length</th><th scope=col>Petal.Width</th><th scope=col>Species</th></tr>\n",
       "\t<tr><th></th><th scope=col>&lt;dbl&gt;</th><th scope=col>&lt;dbl&gt;</th><th scope=col>&lt;dbl&gt;</th><th scope=col>&lt;dbl&gt;</th><th scope=col>&lt;fct&gt;</th></tr>\n",
       "</thead>\n",
       "<tbody>\n",
       "\t<tr><th scope=row>1</th><td>5.1</td><td>3.5</td><td>1.4</td><td>0.2</td><td>setosa    </td></tr>\n",
       "\t<tr><th scope=row>8</th><td>5.0</td><td>3.4</td><td>1.5</td><td>0.2</td><td>setosa    </td></tr>\n",
       "\t<tr><th scope=row>15</th><td>5.8</td><td>4.0</td><td>1.2</td><td>0.2</td><td>setosa    </td></tr>\n",
       "\t<tr><th scope=row>22</th><td>5.1</td><td>3.7</td><td>1.5</td><td>0.4</td><td>setosa    </td></tr>\n",
       "\t<tr><th scope=row>29</th><td>5.2</td><td>3.4</td><td>1.4</td><td>0.2</td><td>setosa    </td></tr>\n",
       "\t<tr><th scope=row>36</th><td>5.0</td><td>3.2</td><td>1.2</td><td>0.2</td><td>setosa    </td></tr>\n",
       "\t<tr><th scope=row>43</th><td>4.4</td><td>3.2</td><td>1.3</td><td>0.2</td><td>setosa    </td></tr>\n",
       "\t<tr><th scope=row>50</th><td>5.0</td><td>3.3</td><td>1.4</td><td>0.2</td><td>setosa    </td></tr>\n",
       "\t<tr><th scope=row>57</th><td>6.3</td><td>3.3</td><td>4.7</td><td>1.6</td><td>versicolor</td></tr>\n",
       "\t<tr><th scope=row>64</th><td>6.1</td><td>2.9</td><td>4.7</td><td>1.4</td><td>versicolor</td></tr>\n",
       "\t<tr><th scope=row>71</th><td>5.9</td><td>3.2</td><td>4.8</td><td>1.8</td><td>versicolor</td></tr>\n",
       "\t<tr><th scope=row>78</th><td>6.7</td><td>3.0</td><td>5.0</td><td>1.7</td><td>versicolor</td></tr>\n",
       "\t<tr><th scope=row>85</th><td>5.4</td><td>3.0</td><td>4.5</td><td>1.5</td><td>versicolor</td></tr>\n",
       "\t<tr><th scope=row>92</th><td>6.1</td><td>3.0</td><td>4.6</td><td>1.4</td><td>versicolor</td></tr>\n",
       "\t<tr><th scope=row>99</th><td>5.1</td><td>2.5</td><td>3.0</td><td>1.1</td><td>versicolor</td></tr>\n",
       "\t<tr><th scope=row>106</th><td>7.6</td><td>3.0</td><td>6.6</td><td>2.1</td><td>virginica </td></tr>\n",
       "\t<tr><th scope=row>113</th><td>6.8</td><td>3.0</td><td>5.5</td><td>2.1</td><td>virginica </td></tr>\n",
       "\t<tr><th scope=row>120</th><td>6.0</td><td>2.2</td><td>5.0</td><td>1.5</td><td>virginica </td></tr>\n",
       "\t<tr><th scope=row>127</th><td>6.2</td><td>2.8</td><td>4.8</td><td>1.8</td><td>virginica </td></tr>\n",
       "\t<tr><th scope=row>134</th><td>6.3</td><td>2.8</td><td>5.1</td><td>1.5</td><td>virginica </td></tr>\n",
       "\t<tr><th scope=row>141</th><td>6.7</td><td>3.1</td><td>5.6</td><td>2.4</td><td>virginica </td></tr>\n",
       "\t<tr><th scope=row>148</th><td>6.5</td><td>3.0</td><td>5.2</td><td>2.0</td><td>virginica </td></tr>\n",
       "</tbody>\n",
       "</table>\n"
      ],
      "text/latex": [
       "A data.frame: 22 × 5\n",
       "\\begin{tabular}{r|lllll}\n",
       "  & Sepal.Length & Sepal.Width & Petal.Length & Petal.Width & Species\\\\\n",
       "  & <dbl> & <dbl> & <dbl> & <dbl> & <fct>\\\\\n",
       "\\hline\n",
       "\t1 & 5.1 & 3.5 & 1.4 & 0.2 & setosa    \\\\\n",
       "\t8 & 5.0 & 3.4 & 1.5 & 0.2 & setosa    \\\\\n",
       "\t15 & 5.8 & 4.0 & 1.2 & 0.2 & setosa    \\\\\n",
       "\t22 & 5.1 & 3.7 & 1.5 & 0.4 & setosa    \\\\\n",
       "\t29 & 5.2 & 3.4 & 1.4 & 0.2 & setosa    \\\\\n",
       "\t36 & 5.0 & 3.2 & 1.2 & 0.2 & setosa    \\\\\n",
       "\t43 & 4.4 & 3.2 & 1.3 & 0.2 & setosa    \\\\\n",
       "\t50 & 5.0 & 3.3 & 1.4 & 0.2 & setosa    \\\\\n",
       "\t57 & 6.3 & 3.3 & 4.7 & 1.6 & versicolor\\\\\n",
       "\t64 & 6.1 & 2.9 & 4.7 & 1.4 & versicolor\\\\\n",
       "\t71 & 5.9 & 3.2 & 4.8 & 1.8 & versicolor\\\\\n",
       "\t78 & 6.7 & 3.0 & 5.0 & 1.7 & versicolor\\\\\n",
       "\t85 & 5.4 & 3.0 & 4.5 & 1.5 & versicolor\\\\\n",
       "\t92 & 6.1 & 3.0 & 4.6 & 1.4 & versicolor\\\\\n",
       "\t99 & 5.1 & 2.5 & 3.0 & 1.1 & versicolor\\\\\n",
       "\t106 & 7.6 & 3.0 & 6.6 & 2.1 & virginica \\\\\n",
       "\t113 & 6.8 & 3.0 & 5.5 & 2.1 & virginica \\\\\n",
       "\t120 & 6.0 & 2.2 & 5.0 & 1.5 & virginica \\\\\n",
       "\t127 & 6.2 & 2.8 & 4.8 & 1.8 & virginica \\\\\n",
       "\t134 & 6.3 & 2.8 & 5.1 & 1.5 & virginica \\\\\n",
       "\t141 & 6.7 & 3.1 & 5.6 & 2.4 & virginica \\\\\n",
       "\t148 & 6.5 & 3.0 & 5.2 & 2.0 & virginica \\\\\n",
       "\\end{tabular}\n"
      ],
      "text/markdown": [
       "\n",
       "A data.frame: 22 × 5\n",
       "\n",
       "| <!--/--> | Sepal.Length &lt;dbl&gt; | Sepal.Width &lt;dbl&gt; | Petal.Length &lt;dbl&gt; | Petal.Width &lt;dbl&gt; | Species &lt;fct&gt; |\n",
       "|---|---|---|---|---|---|\n",
       "| 1 | 5.1 | 3.5 | 1.4 | 0.2 | setosa     |\n",
       "| 8 | 5.0 | 3.4 | 1.5 | 0.2 | setosa     |\n",
       "| 15 | 5.8 | 4.0 | 1.2 | 0.2 | setosa     |\n",
       "| 22 | 5.1 | 3.7 | 1.5 | 0.4 | setosa     |\n",
       "| 29 | 5.2 | 3.4 | 1.4 | 0.2 | setosa     |\n",
       "| 36 | 5.0 | 3.2 | 1.2 | 0.2 | setosa     |\n",
       "| 43 | 4.4 | 3.2 | 1.3 | 0.2 | setosa     |\n",
       "| 50 | 5.0 | 3.3 | 1.4 | 0.2 | setosa     |\n",
       "| 57 | 6.3 | 3.3 | 4.7 | 1.6 | versicolor |\n",
       "| 64 | 6.1 | 2.9 | 4.7 | 1.4 | versicolor |\n",
       "| 71 | 5.9 | 3.2 | 4.8 | 1.8 | versicolor |\n",
       "| 78 | 6.7 | 3.0 | 5.0 | 1.7 | versicolor |\n",
       "| 85 | 5.4 | 3.0 | 4.5 | 1.5 | versicolor |\n",
       "| 92 | 6.1 | 3.0 | 4.6 | 1.4 | versicolor |\n",
       "| 99 | 5.1 | 2.5 | 3.0 | 1.1 | versicolor |\n",
       "| 106 | 7.6 | 3.0 | 6.6 | 2.1 | virginica  |\n",
       "| 113 | 6.8 | 3.0 | 5.5 | 2.1 | virginica  |\n",
       "| 120 | 6.0 | 2.2 | 5.0 | 1.5 | virginica  |\n",
       "| 127 | 6.2 | 2.8 | 4.8 | 1.8 | virginica  |\n",
       "| 134 | 6.3 | 2.8 | 5.1 | 1.5 | virginica  |\n",
       "| 141 | 6.7 | 3.1 | 5.6 | 2.4 | virginica  |\n",
       "| 148 | 6.5 | 3.0 | 5.2 | 2.0 | virginica  |\n",
       "\n"
      ],
      "text/plain": [
       "    Sepal.Length Sepal.Width Petal.Length Petal.Width Species   \n",
       "1   5.1          3.5         1.4          0.2         setosa    \n",
       "8   5.0          3.4         1.5          0.2         setosa    \n",
       "15  5.8          4.0         1.2          0.2         setosa    \n",
       "22  5.1          3.7         1.5          0.4         setosa    \n",
       "29  5.2          3.4         1.4          0.2         setosa    \n",
       "36  5.0          3.2         1.2          0.2         setosa    \n",
       "43  4.4          3.2         1.3          0.2         setosa    \n",
       "50  5.0          3.3         1.4          0.2         setosa    \n",
       "57  6.3          3.3         4.7          1.6         versicolor\n",
       "64  6.1          2.9         4.7          1.4         versicolor\n",
       "71  5.9          3.2         4.8          1.8         versicolor\n",
       "78  6.7          3.0         5.0          1.7         versicolor\n",
       "85  5.4          3.0         4.5          1.5         versicolor\n",
       "92  6.1          3.0         4.6          1.4         versicolor\n",
       "99  5.1          2.5         3.0          1.1         versicolor\n",
       "106 7.6          3.0         6.6          2.1         virginica \n",
       "113 6.8          3.0         5.5          2.1         virginica \n",
       "120 6.0          2.2         5.0          1.5         virginica \n",
       "127 6.2          2.8         4.8          1.8         virginica \n",
       "134 6.3          2.8         5.1          1.5         virginica \n",
       "141 6.7          3.1         5.6          2.4         virginica \n",
       "148 6.5          3.0         5.2          2.0         virginica "
      ]
     },
     "metadata": {},
     "output_type": "display_data"
    }
   ],
   "source": [
    "# 20 observações\n",
    "n_amostra <- 20\n",
    "intervalo <- floor(n_total / n_amostra)\n",
    "\n",
    "indices <- seq(1, n_total, by = intervalo)\n",
    "\n",
    "amostra_20 <- iris[indices, ]\n",
    "amostra_20\n"
   ]
  },
  {
   "cell_type": "code",
   "execution_count": 9,
   "id": "7b15d42e-dacf-4d17-9082-a85902397249",
   "metadata": {},
   "outputs": [
    {
     "data": {
      "text/html": [
       "<table class=\"dataframe\">\n",
       "<caption>A data.frame: 50 × 5</caption>\n",
       "<thead>\n",
       "\t<tr><th></th><th scope=col>Sepal.Length</th><th scope=col>Sepal.Width</th><th scope=col>Petal.Length</th><th scope=col>Petal.Width</th><th scope=col>Species</th></tr>\n",
       "\t<tr><th></th><th scope=col>&lt;dbl&gt;</th><th scope=col>&lt;dbl&gt;</th><th scope=col>&lt;dbl&gt;</th><th scope=col>&lt;dbl&gt;</th><th scope=col>&lt;fct&gt;</th></tr>\n",
       "</thead>\n",
       "<tbody>\n",
       "\t<tr><th scope=row>1</th><td>5.1</td><td>3.5</td><td>1.4</td><td>0.2</td><td>setosa    </td></tr>\n",
       "\t<tr><th scope=row>4</th><td>4.6</td><td>3.1</td><td>1.5</td><td>0.2</td><td>setosa    </td></tr>\n",
       "\t<tr><th scope=row>7</th><td>4.6</td><td>3.4</td><td>1.4</td><td>0.3</td><td>setosa    </td></tr>\n",
       "\t<tr><th scope=row>10</th><td>4.9</td><td>3.1</td><td>1.5</td><td>0.1</td><td>setosa    </td></tr>\n",
       "\t<tr><th scope=row>13</th><td>4.8</td><td>3.0</td><td>1.4</td><td>0.1</td><td>setosa    </td></tr>\n",
       "\t<tr><th scope=row>16</th><td>5.7</td><td>4.4</td><td>1.5</td><td>0.4</td><td>setosa    </td></tr>\n",
       "\t<tr><th scope=row>19</th><td>5.7</td><td>3.8</td><td>1.7</td><td>0.3</td><td>setosa    </td></tr>\n",
       "\t<tr><th scope=row>22</th><td>5.1</td><td>3.7</td><td>1.5</td><td>0.4</td><td>setosa    </td></tr>\n",
       "\t<tr><th scope=row>25</th><td>4.8</td><td>3.4</td><td>1.9</td><td>0.2</td><td>setosa    </td></tr>\n",
       "\t<tr><th scope=row>28</th><td>5.2</td><td>3.5</td><td>1.5</td><td>0.2</td><td>setosa    </td></tr>\n",
       "\t<tr><th scope=row>31</th><td>4.8</td><td>3.1</td><td>1.6</td><td>0.2</td><td>setosa    </td></tr>\n",
       "\t<tr><th scope=row>34</th><td>5.5</td><td>4.2</td><td>1.4</td><td>0.2</td><td>setosa    </td></tr>\n",
       "\t<tr><th scope=row>37</th><td>5.5</td><td>3.5</td><td>1.3</td><td>0.2</td><td>setosa    </td></tr>\n",
       "\t<tr><th scope=row>40</th><td>5.1</td><td>3.4</td><td>1.5</td><td>0.2</td><td>setosa    </td></tr>\n",
       "\t<tr><th scope=row>43</th><td>4.4</td><td>3.2</td><td>1.3</td><td>0.2</td><td>setosa    </td></tr>\n",
       "\t<tr><th scope=row>46</th><td>4.8</td><td>3.0</td><td>1.4</td><td>0.3</td><td>setosa    </td></tr>\n",
       "\t<tr><th scope=row>49</th><td>5.3</td><td>3.7</td><td>1.5</td><td>0.2</td><td>setosa    </td></tr>\n",
       "\t<tr><th scope=row>52</th><td>6.4</td><td>3.2</td><td>4.5</td><td>1.5</td><td>versicolor</td></tr>\n",
       "\t<tr><th scope=row>55</th><td>6.5</td><td>2.8</td><td>4.6</td><td>1.5</td><td>versicolor</td></tr>\n",
       "\t<tr><th scope=row>58</th><td>4.9</td><td>2.4</td><td>3.3</td><td>1.0</td><td>versicolor</td></tr>\n",
       "\t<tr><th scope=row>61</th><td>5.0</td><td>2.0</td><td>3.5</td><td>1.0</td><td>versicolor</td></tr>\n",
       "\t<tr><th scope=row>64</th><td>6.1</td><td>2.9</td><td>4.7</td><td>1.4</td><td>versicolor</td></tr>\n",
       "\t<tr><th scope=row>67</th><td>5.6</td><td>3.0</td><td>4.5</td><td>1.5</td><td>versicolor</td></tr>\n",
       "\t<tr><th scope=row>70</th><td>5.6</td><td>2.5</td><td>3.9</td><td>1.1</td><td>versicolor</td></tr>\n",
       "\t<tr><th scope=row>73</th><td>6.3</td><td>2.5</td><td>4.9</td><td>1.5</td><td>versicolor</td></tr>\n",
       "\t<tr><th scope=row>76</th><td>6.6</td><td>3.0</td><td>4.4</td><td>1.4</td><td>versicolor</td></tr>\n",
       "\t<tr><th scope=row>79</th><td>6.0</td><td>2.9</td><td>4.5</td><td>1.5</td><td>versicolor</td></tr>\n",
       "\t<tr><th scope=row>82</th><td>5.5</td><td>2.4</td><td>3.7</td><td>1.0</td><td>versicolor</td></tr>\n",
       "\t<tr><th scope=row>85</th><td>5.4</td><td>3.0</td><td>4.5</td><td>1.5</td><td>versicolor</td></tr>\n",
       "\t<tr><th scope=row>88</th><td>6.3</td><td>2.3</td><td>4.4</td><td>1.3</td><td>versicolor</td></tr>\n",
       "\t<tr><th scope=row>91</th><td>5.5</td><td>2.6</td><td>4.4</td><td>1.2</td><td>versicolor</td></tr>\n",
       "\t<tr><th scope=row>94</th><td>5.0</td><td>2.3</td><td>3.3</td><td>1.0</td><td>versicolor</td></tr>\n",
       "\t<tr><th scope=row>97</th><td>5.7</td><td>2.9</td><td>4.2</td><td>1.3</td><td>versicolor</td></tr>\n",
       "\t<tr><th scope=row>100</th><td>5.7</td><td>2.8</td><td>4.1</td><td>1.3</td><td>versicolor</td></tr>\n",
       "\t<tr><th scope=row>103</th><td>7.1</td><td>3.0</td><td>5.9</td><td>2.1</td><td>virginica </td></tr>\n",
       "\t<tr><th scope=row>106</th><td>7.6</td><td>3.0</td><td>6.6</td><td>2.1</td><td>virginica </td></tr>\n",
       "\t<tr><th scope=row>109</th><td>6.7</td><td>2.5</td><td>5.8</td><td>1.8</td><td>virginica </td></tr>\n",
       "\t<tr><th scope=row>112</th><td>6.4</td><td>2.7</td><td>5.3</td><td>1.9</td><td>virginica </td></tr>\n",
       "\t<tr><th scope=row>115</th><td>5.8</td><td>2.8</td><td>5.1</td><td>2.4</td><td>virginica </td></tr>\n",
       "\t<tr><th scope=row>118</th><td>7.7</td><td>3.8</td><td>6.7</td><td>2.2</td><td>virginica </td></tr>\n",
       "\t<tr><th scope=row>121</th><td>6.9</td><td>3.2</td><td>5.7</td><td>2.3</td><td>virginica </td></tr>\n",
       "\t<tr><th scope=row>124</th><td>6.3</td><td>2.7</td><td>4.9</td><td>1.8</td><td>virginica </td></tr>\n",
       "\t<tr><th scope=row>127</th><td>6.2</td><td>2.8</td><td>4.8</td><td>1.8</td><td>virginica </td></tr>\n",
       "\t<tr><th scope=row>130</th><td>7.2</td><td>3.0</td><td>5.8</td><td>1.6</td><td>virginica </td></tr>\n",
       "\t<tr><th scope=row>133</th><td>6.4</td><td>2.8</td><td>5.6</td><td>2.2</td><td>virginica </td></tr>\n",
       "\t<tr><th scope=row>136</th><td>7.7</td><td>3.0</td><td>6.1</td><td>2.3</td><td>virginica </td></tr>\n",
       "\t<tr><th scope=row>139</th><td>6.0</td><td>3.0</td><td>4.8</td><td>1.8</td><td>virginica </td></tr>\n",
       "\t<tr><th scope=row>142</th><td>6.9</td><td>3.1</td><td>5.1</td><td>2.3</td><td>virginica </td></tr>\n",
       "\t<tr><th scope=row>145</th><td>6.7</td><td>3.3</td><td>5.7</td><td>2.5</td><td>virginica </td></tr>\n",
       "\t<tr><th scope=row>148</th><td>6.5</td><td>3.0</td><td>5.2</td><td>2.0</td><td>virginica </td></tr>\n",
       "</tbody>\n",
       "</table>\n"
      ],
      "text/latex": [
       "A data.frame: 50 × 5\n",
       "\\begin{tabular}{r|lllll}\n",
       "  & Sepal.Length & Sepal.Width & Petal.Length & Petal.Width & Species\\\\\n",
       "  & <dbl> & <dbl> & <dbl> & <dbl> & <fct>\\\\\n",
       "\\hline\n",
       "\t1 & 5.1 & 3.5 & 1.4 & 0.2 & setosa    \\\\\n",
       "\t4 & 4.6 & 3.1 & 1.5 & 0.2 & setosa    \\\\\n",
       "\t7 & 4.6 & 3.4 & 1.4 & 0.3 & setosa    \\\\\n",
       "\t10 & 4.9 & 3.1 & 1.5 & 0.1 & setosa    \\\\\n",
       "\t13 & 4.8 & 3.0 & 1.4 & 0.1 & setosa    \\\\\n",
       "\t16 & 5.7 & 4.4 & 1.5 & 0.4 & setosa    \\\\\n",
       "\t19 & 5.7 & 3.8 & 1.7 & 0.3 & setosa    \\\\\n",
       "\t22 & 5.1 & 3.7 & 1.5 & 0.4 & setosa    \\\\\n",
       "\t25 & 4.8 & 3.4 & 1.9 & 0.2 & setosa    \\\\\n",
       "\t28 & 5.2 & 3.5 & 1.5 & 0.2 & setosa    \\\\\n",
       "\t31 & 4.8 & 3.1 & 1.6 & 0.2 & setosa    \\\\\n",
       "\t34 & 5.5 & 4.2 & 1.4 & 0.2 & setosa    \\\\\n",
       "\t37 & 5.5 & 3.5 & 1.3 & 0.2 & setosa    \\\\\n",
       "\t40 & 5.1 & 3.4 & 1.5 & 0.2 & setosa    \\\\\n",
       "\t43 & 4.4 & 3.2 & 1.3 & 0.2 & setosa    \\\\\n",
       "\t46 & 4.8 & 3.0 & 1.4 & 0.3 & setosa    \\\\\n",
       "\t49 & 5.3 & 3.7 & 1.5 & 0.2 & setosa    \\\\\n",
       "\t52 & 6.4 & 3.2 & 4.5 & 1.5 & versicolor\\\\\n",
       "\t55 & 6.5 & 2.8 & 4.6 & 1.5 & versicolor\\\\\n",
       "\t58 & 4.9 & 2.4 & 3.3 & 1.0 & versicolor\\\\\n",
       "\t61 & 5.0 & 2.0 & 3.5 & 1.0 & versicolor\\\\\n",
       "\t64 & 6.1 & 2.9 & 4.7 & 1.4 & versicolor\\\\\n",
       "\t67 & 5.6 & 3.0 & 4.5 & 1.5 & versicolor\\\\\n",
       "\t70 & 5.6 & 2.5 & 3.9 & 1.1 & versicolor\\\\\n",
       "\t73 & 6.3 & 2.5 & 4.9 & 1.5 & versicolor\\\\\n",
       "\t76 & 6.6 & 3.0 & 4.4 & 1.4 & versicolor\\\\\n",
       "\t79 & 6.0 & 2.9 & 4.5 & 1.5 & versicolor\\\\\n",
       "\t82 & 5.5 & 2.4 & 3.7 & 1.0 & versicolor\\\\\n",
       "\t85 & 5.4 & 3.0 & 4.5 & 1.5 & versicolor\\\\\n",
       "\t88 & 6.3 & 2.3 & 4.4 & 1.3 & versicolor\\\\\n",
       "\t91 & 5.5 & 2.6 & 4.4 & 1.2 & versicolor\\\\\n",
       "\t94 & 5.0 & 2.3 & 3.3 & 1.0 & versicolor\\\\\n",
       "\t97 & 5.7 & 2.9 & 4.2 & 1.3 & versicolor\\\\\n",
       "\t100 & 5.7 & 2.8 & 4.1 & 1.3 & versicolor\\\\\n",
       "\t103 & 7.1 & 3.0 & 5.9 & 2.1 & virginica \\\\\n",
       "\t106 & 7.6 & 3.0 & 6.6 & 2.1 & virginica \\\\\n",
       "\t109 & 6.7 & 2.5 & 5.8 & 1.8 & virginica \\\\\n",
       "\t112 & 6.4 & 2.7 & 5.3 & 1.9 & virginica \\\\\n",
       "\t115 & 5.8 & 2.8 & 5.1 & 2.4 & virginica \\\\\n",
       "\t118 & 7.7 & 3.8 & 6.7 & 2.2 & virginica \\\\\n",
       "\t121 & 6.9 & 3.2 & 5.7 & 2.3 & virginica \\\\\n",
       "\t124 & 6.3 & 2.7 & 4.9 & 1.8 & virginica \\\\\n",
       "\t127 & 6.2 & 2.8 & 4.8 & 1.8 & virginica \\\\\n",
       "\t130 & 7.2 & 3.0 & 5.8 & 1.6 & virginica \\\\\n",
       "\t133 & 6.4 & 2.8 & 5.6 & 2.2 & virginica \\\\\n",
       "\t136 & 7.7 & 3.0 & 6.1 & 2.3 & virginica \\\\\n",
       "\t139 & 6.0 & 3.0 & 4.8 & 1.8 & virginica \\\\\n",
       "\t142 & 6.9 & 3.1 & 5.1 & 2.3 & virginica \\\\\n",
       "\t145 & 6.7 & 3.3 & 5.7 & 2.5 & virginica \\\\\n",
       "\t148 & 6.5 & 3.0 & 5.2 & 2.0 & virginica \\\\\n",
       "\\end{tabular}\n"
      ],
      "text/markdown": [
       "\n",
       "A data.frame: 50 × 5\n",
       "\n",
       "| <!--/--> | Sepal.Length &lt;dbl&gt; | Sepal.Width &lt;dbl&gt; | Petal.Length &lt;dbl&gt; | Petal.Width &lt;dbl&gt; | Species &lt;fct&gt; |\n",
       "|---|---|---|---|---|---|\n",
       "| 1 | 5.1 | 3.5 | 1.4 | 0.2 | setosa     |\n",
       "| 4 | 4.6 | 3.1 | 1.5 | 0.2 | setosa     |\n",
       "| 7 | 4.6 | 3.4 | 1.4 | 0.3 | setosa     |\n",
       "| 10 | 4.9 | 3.1 | 1.5 | 0.1 | setosa     |\n",
       "| 13 | 4.8 | 3.0 | 1.4 | 0.1 | setosa     |\n",
       "| 16 | 5.7 | 4.4 | 1.5 | 0.4 | setosa     |\n",
       "| 19 | 5.7 | 3.8 | 1.7 | 0.3 | setosa     |\n",
       "| 22 | 5.1 | 3.7 | 1.5 | 0.4 | setosa     |\n",
       "| 25 | 4.8 | 3.4 | 1.9 | 0.2 | setosa     |\n",
       "| 28 | 5.2 | 3.5 | 1.5 | 0.2 | setosa     |\n",
       "| 31 | 4.8 | 3.1 | 1.6 | 0.2 | setosa     |\n",
       "| 34 | 5.5 | 4.2 | 1.4 | 0.2 | setosa     |\n",
       "| 37 | 5.5 | 3.5 | 1.3 | 0.2 | setosa     |\n",
       "| 40 | 5.1 | 3.4 | 1.5 | 0.2 | setosa     |\n",
       "| 43 | 4.4 | 3.2 | 1.3 | 0.2 | setosa     |\n",
       "| 46 | 4.8 | 3.0 | 1.4 | 0.3 | setosa     |\n",
       "| 49 | 5.3 | 3.7 | 1.5 | 0.2 | setosa     |\n",
       "| 52 | 6.4 | 3.2 | 4.5 | 1.5 | versicolor |\n",
       "| 55 | 6.5 | 2.8 | 4.6 | 1.5 | versicolor |\n",
       "| 58 | 4.9 | 2.4 | 3.3 | 1.0 | versicolor |\n",
       "| 61 | 5.0 | 2.0 | 3.5 | 1.0 | versicolor |\n",
       "| 64 | 6.1 | 2.9 | 4.7 | 1.4 | versicolor |\n",
       "| 67 | 5.6 | 3.0 | 4.5 | 1.5 | versicolor |\n",
       "| 70 | 5.6 | 2.5 | 3.9 | 1.1 | versicolor |\n",
       "| 73 | 6.3 | 2.5 | 4.9 | 1.5 | versicolor |\n",
       "| 76 | 6.6 | 3.0 | 4.4 | 1.4 | versicolor |\n",
       "| 79 | 6.0 | 2.9 | 4.5 | 1.5 | versicolor |\n",
       "| 82 | 5.5 | 2.4 | 3.7 | 1.0 | versicolor |\n",
       "| 85 | 5.4 | 3.0 | 4.5 | 1.5 | versicolor |\n",
       "| 88 | 6.3 | 2.3 | 4.4 | 1.3 | versicolor |\n",
       "| 91 | 5.5 | 2.6 | 4.4 | 1.2 | versicolor |\n",
       "| 94 | 5.0 | 2.3 | 3.3 | 1.0 | versicolor |\n",
       "| 97 | 5.7 | 2.9 | 4.2 | 1.3 | versicolor |\n",
       "| 100 | 5.7 | 2.8 | 4.1 | 1.3 | versicolor |\n",
       "| 103 | 7.1 | 3.0 | 5.9 | 2.1 | virginica  |\n",
       "| 106 | 7.6 | 3.0 | 6.6 | 2.1 | virginica  |\n",
       "| 109 | 6.7 | 2.5 | 5.8 | 1.8 | virginica  |\n",
       "| 112 | 6.4 | 2.7 | 5.3 | 1.9 | virginica  |\n",
       "| 115 | 5.8 | 2.8 | 5.1 | 2.4 | virginica  |\n",
       "| 118 | 7.7 | 3.8 | 6.7 | 2.2 | virginica  |\n",
       "| 121 | 6.9 | 3.2 | 5.7 | 2.3 | virginica  |\n",
       "| 124 | 6.3 | 2.7 | 4.9 | 1.8 | virginica  |\n",
       "| 127 | 6.2 | 2.8 | 4.8 | 1.8 | virginica  |\n",
       "| 130 | 7.2 | 3.0 | 5.8 | 1.6 | virginica  |\n",
       "| 133 | 6.4 | 2.8 | 5.6 | 2.2 | virginica  |\n",
       "| 136 | 7.7 | 3.0 | 6.1 | 2.3 | virginica  |\n",
       "| 139 | 6.0 | 3.0 | 4.8 | 1.8 | virginica  |\n",
       "| 142 | 6.9 | 3.1 | 5.1 | 2.3 | virginica  |\n",
       "| 145 | 6.7 | 3.3 | 5.7 | 2.5 | virginica  |\n",
       "| 148 | 6.5 | 3.0 | 5.2 | 2.0 | virginica  |\n",
       "\n"
      ],
      "text/plain": [
       "    Sepal.Length Sepal.Width Petal.Length Petal.Width Species   \n",
       "1   5.1          3.5         1.4          0.2         setosa    \n",
       "4   4.6          3.1         1.5          0.2         setosa    \n",
       "7   4.6          3.4         1.4          0.3         setosa    \n",
       "10  4.9          3.1         1.5          0.1         setosa    \n",
       "13  4.8          3.0         1.4          0.1         setosa    \n",
       "16  5.7          4.4         1.5          0.4         setosa    \n",
       "19  5.7          3.8         1.7          0.3         setosa    \n",
       "22  5.1          3.7         1.5          0.4         setosa    \n",
       "25  4.8          3.4         1.9          0.2         setosa    \n",
       "28  5.2          3.5         1.5          0.2         setosa    \n",
       "31  4.8          3.1         1.6          0.2         setosa    \n",
       "34  5.5          4.2         1.4          0.2         setosa    \n",
       "37  5.5          3.5         1.3          0.2         setosa    \n",
       "40  5.1          3.4         1.5          0.2         setosa    \n",
       "43  4.4          3.2         1.3          0.2         setosa    \n",
       "46  4.8          3.0         1.4          0.3         setosa    \n",
       "49  5.3          3.7         1.5          0.2         setosa    \n",
       "52  6.4          3.2         4.5          1.5         versicolor\n",
       "55  6.5          2.8         4.6          1.5         versicolor\n",
       "58  4.9          2.4         3.3          1.0         versicolor\n",
       "61  5.0          2.0         3.5          1.0         versicolor\n",
       "64  6.1          2.9         4.7          1.4         versicolor\n",
       "67  5.6          3.0         4.5          1.5         versicolor\n",
       "70  5.6          2.5         3.9          1.1         versicolor\n",
       "73  6.3          2.5         4.9          1.5         versicolor\n",
       "76  6.6          3.0         4.4          1.4         versicolor\n",
       "79  6.0          2.9         4.5          1.5         versicolor\n",
       "82  5.5          2.4         3.7          1.0         versicolor\n",
       "85  5.4          3.0         4.5          1.5         versicolor\n",
       "88  6.3          2.3         4.4          1.3         versicolor\n",
       "91  5.5          2.6         4.4          1.2         versicolor\n",
       "94  5.0          2.3         3.3          1.0         versicolor\n",
       "97  5.7          2.9         4.2          1.3         versicolor\n",
       "100 5.7          2.8         4.1          1.3         versicolor\n",
       "103 7.1          3.0         5.9          2.1         virginica \n",
       "106 7.6          3.0         6.6          2.1         virginica \n",
       "109 6.7          2.5         5.8          1.8         virginica \n",
       "112 6.4          2.7         5.3          1.9         virginica \n",
       "115 5.8          2.8         5.1          2.4         virginica \n",
       "118 7.7          3.8         6.7          2.2         virginica \n",
       "121 6.9          3.2         5.7          2.3         virginica \n",
       "124 6.3          2.7         4.9          1.8         virginica \n",
       "127 6.2          2.8         4.8          1.8         virginica \n",
       "130 7.2          3.0         5.8          1.6         virginica \n",
       "133 6.4          2.8         5.6          2.2         virginica \n",
       "136 7.7          3.0         6.1          2.3         virginica \n",
       "139 6.0          3.0         4.8          1.8         virginica \n",
       "142 6.9          3.1         5.1          2.3         virginica \n",
       "145 6.7          3.3         5.7          2.5         virginica \n",
       "148 6.5          3.0         5.2          2.0         virginica "
      ]
     },
     "metadata": {},
     "output_type": "display_data"
    }
   ],
   "source": [
    "# 40 observações\n",
    "n_amostra <- 40\n",
    "intervalo <- floor(n_total / n_amostra)\n",
    "\n",
    "indices <- seq(1, n_total, by = intervalo)\n",
    "\n",
    "amostra_40 <- iris[indices, ]\n",
    "amostra_40"
   ]
  },
  {
   "cell_type": "code",
   "execution_count": 13,
   "id": "59085e20-84ba-4a50-8d6b-8f6973309837",
   "metadata": {},
   "outputs": [
    {
     "name": "stdout",
     "output_type": "stream",
     "text": [
      "Tamanhos das amostras:\n",
      "Amostra 30 observações: 30 \n",
      "Amostra 20 observações: 22 \n",
      "Amostra 40 observações: 50 \n",
      "\n",
      "Comparações estatísticas das amostras\n",
      "\n"
     ]
    },
    {
     "data": {
      "text/plain": [
       "  Sepal.Length   Sepal.Width     Petal.Length    Petal.Width          Species  \n",
       " Min.   :4.80   Min.   :2.000   Min.   :1.200   Min.   :0.200   setosa    :10  \n",
       " 1st Qu.:5.40   1st Qu.:3.000   1st Qu.:1.625   1st Qu.:0.325   versicolor:10  \n",
       " Median :5.80   Median :3.150   Median :4.400   Median :1.350   virginica :10  \n",
       " Mean   :6.02   Mean   :3.147   Mean   :3.860   Mean   :1.263                  \n",
       " 3rd Qu.:6.70   3rd Qu.:3.275   3rd Qu.:5.275   3rd Qu.:1.975                  \n",
       " Max.   :7.70   Max.   :4.400   Max.   :6.600   Max.   :2.500                  "
      ]
     },
     "metadata": {},
     "output_type": "display_data"
    },
    {
     "data": {
      "text/plain": [
       "  Sepal.Length    Sepal.Width     Petal.Length    Petal.Width          Species \n",
       " Min.   :4.400   Min.   :2.200   Min.   :1.200   Min.   :0.200   setosa    :8  \n",
       " 1st Qu.:5.100   1st Qu.:3.000   1st Qu.:1.425   1st Qu.:0.200   versicolor:7  \n",
       " Median :5.950   Median :3.050   Median :4.650   Median :1.450   virginica :7  \n",
       " Mean   :5.832   Mean   :3.114   Mean   :3.636   Mean   :1.168                 \n",
       " 3rd Qu.:6.300   3rd Qu.:3.300   3rd Qu.:5.000   3rd Qu.:1.775                 \n",
       " Max.   :7.600   Max.   :4.000   Max.   :6.600   Max.   :2.400                 "
      ]
     },
     "metadata": {},
     "output_type": "display_data"
    },
    {
     "data": {
      "text/plain": [
       "  Sepal.Length    Sepal.Width     Petal.Length    Petal.Width         Species  \n",
       " Min.   :4.400   Min.   :2.000   Min.   :1.300   Min.   :0.10   setosa    :17  \n",
       " 1st Qu.:5.100   1st Qu.:2.800   1st Qu.:1.500   1st Qu.:0.30   versicolor:17  \n",
       " Median :5.700   Median :3.000   Median :4.400   Median :1.30   virginica :16  \n",
       " Mean   :5.842   Mean   :3.044   Mean   :3.716   Mean   :1.18                  \n",
       " 3rd Qu.:6.400   3rd Qu.:3.275   3rd Qu.:5.050   3rd Qu.:1.80                  \n",
       " Max.   :7.700   Max.   :4.400   Max.   :6.700   Max.   :2.50                  "
      ]
     },
     "metadata": {},
     "output_type": "display_data"
    }
   ],
   "source": [
    "# Comparar os tamanhos das amostras\n",
    "cat(\"Tamanhos das amostras:\\n\")\n",
    "cat(\"Amostra 30 observações:\", nrow(amostra_30), \"\\n\")\n",
    "cat(\"Amostra 20 observações:\", nrow(amostra_20), \"\\n\")\n",
    "cat(\"Amostra 40 observações:\", nrow(amostra_40), \"\\n\\n\")\n",
    "\n",
    "cat('Comparações estatísticas das amostras\\n\\n')\n",
    "summary(amostra_30)\n",
    "summary(amostra_20)\n",
    "summary(amostra_40)\n"
   ]
  },
  {
   "cell_type": "markdown",
   "id": "859c8382-14e9-40a7-8ba9-76f0f0d06de3",
   "metadata": {},
   "source": [
    "### Exercício 3: Amostragem Estratificada\n",
    "\n",
    "**Objetivo:** Realizar uma amostragem estratificada na base de dados **`iris`**, considerando a variável **`Species`** como estrato.\n",
    "\n",
    "### Tarefa 3.1:\n",
    "\n",
    "1. Carregue a base de dados `iris`.\n",
    "2. Realize uma amostragem estratificada da base `iris`, selecionando 5 amostras de cada espécie (`setosa`, `versicolor`, `virginica`).\n",
    "3. Verifique a composição da amostra gerada. A quantidade de observações de cada espécie deve ser 5.\n",
    "\n",
    "### Dicas:\n",
    "\n",
    "- Utilize o pacote **`sampling`** para realizar a amostragem estratificada.\n",
    "- Use a função `strata()` para realizar a amostragem por estrato, onde o parâmetro `size` deve ser um vetor com o número de amostras para cada estrato."
   ]
  },
  {
   "cell_type": "code",
   "execution_count": 16,
   "id": "2831877b-f6cf-4d1f-85ac-a52cafa2cecb",
   "metadata": {},
   "outputs": [
    {
     "name": "stderr",
     "output_type": "stream",
     "text": [
      "also installing the dependency ‘lpSolve’\n",
      "\n",
      "\n",
      "Updating HTML index of packages in '.Library'\n",
      "\n",
      "Making 'packages.html' ...\n",
      " done\n",
      "\n"
     ]
    }
   ],
   "source": [
    "install.packages('sampling')"
   ]
  },
  {
   "cell_type": "code",
   "execution_count": 17,
   "id": "55a3d2a2-4bef-410f-87f5-46b349952611",
   "metadata": {},
   "outputs": [],
   "source": [
    "data(iris)\n",
    "library(sampling)"
   ]
  },
  {
   "cell_type": "code",
   "execution_count": 18,
   "id": "62d8e532-853b-4812-96d1-4547b8196c24",
   "metadata": {},
   "outputs": [
    {
     "data": {
      "text/html": [
       "<table class=\"dataframe\">\n",
       "<caption>A data.frame: 15 × 4</caption>\n",
       "<thead>\n",
       "\t<tr><th></th><th scope=col>Species</th><th scope=col>ID_unit</th><th scope=col>Prob</th><th scope=col>Stratum</th></tr>\n",
       "\t<tr><th></th><th scope=col>&lt;fct&gt;</th><th scope=col>&lt;int&gt;</th><th scope=col>&lt;dbl&gt;</th><th scope=col>&lt;int&gt;</th></tr>\n",
       "</thead>\n",
       "<tbody>\n",
       "\t<tr><th scope=row>3</th><td>setosa    </td><td>  3</td><td>0.1</td><td>1</td></tr>\n",
       "\t<tr><th scope=row>14</th><td>setosa    </td><td> 14</td><td>0.1</td><td>1</td></tr>\n",
       "\t<tr><th scope=row>15</th><td>setosa    </td><td> 15</td><td>0.1</td><td>1</td></tr>\n",
       "\t<tr><th scope=row>31</th><td>setosa    </td><td> 31</td><td>0.1</td><td>1</td></tr>\n",
       "\t<tr><th scope=row>42</th><td>setosa    </td><td> 42</td><td>0.1</td><td>1</td></tr>\n",
       "\t<tr><th scope=row>64</th><td>versicolor</td><td> 64</td><td>0.1</td><td>2</td></tr>\n",
       "\t<tr><th scope=row>75</th><td>versicolor</td><td> 75</td><td>0.1</td><td>2</td></tr>\n",
       "\t<tr><th scope=row>87</th><td>versicolor</td><td> 87</td><td>0.1</td><td>2</td></tr>\n",
       "\t<tr><th scope=row>93</th><td>versicolor</td><td> 93</td><td>0.1</td><td>2</td></tr>\n",
       "\t<tr><th scope=row>100</th><td>versicolor</td><td>100</td><td>0.1</td><td>2</td></tr>\n",
       "\t<tr><th scope=row>105</th><td>virginica </td><td>105</td><td>0.1</td><td>3</td></tr>\n",
       "\t<tr><th scope=row>126</th><td>virginica </td><td>126</td><td>0.1</td><td>3</td></tr>\n",
       "\t<tr><th scope=row>127</th><td>virginica </td><td>127</td><td>0.1</td><td>3</td></tr>\n",
       "\t<tr><th scope=row>128</th><td>virginica </td><td>128</td><td>0.1</td><td>3</td></tr>\n",
       "\t<tr><th scope=row>149</th><td>virginica </td><td>149</td><td>0.1</td><td>3</td></tr>\n",
       "</tbody>\n",
       "</table>\n"
      ],
      "text/latex": [
       "A data.frame: 15 × 4\n",
       "\\begin{tabular}{r|llll}\n",
       "  & Species & ID\\_unit & Prob & Stratum\\\\\n",
       "  & <fct> & <int> & <dbl> & <int>\\\\\n",
       "\\hline\n",
       "\t3 & setosa     &   3 & 0.1 & 1\\\\\n",
       "\t14 & setosa     &  14 & 0.1 & 1\\\\\n",
       "\t15 & setosa     &  15 & 0.1 & 1\\\\\n",
       "\t31 & setosa     &  31 & 0.1 & 1\\\\\n",
       "\t42 & setosa     &  42 & 0.1 & 1\\\\\n",
       "\t64 & versicolor &  64 & 0.1 & 2\\\\\n",
       "\t75 & versicolor &  75 & 0.1 & 2\\\\\n",
       "\t87 & versicolor &  87 & 0.1 & 2\\\\\n",
       "\t93 & versicolor &  93 & 0.1 & 2\\\\\n",
       "\t100 & versicolor & 100 & 0.1 & 2\\\\\n",
       "\t105 & virginica  & 105 & 0.1 & 3\\\\\n",
       "\t126 & virginica  & 126 & 0.1 & 3\\\\\n",
       "\t127 & virginica  & 127 & 0.1 & 3\\\\\n",
       "\t128 & virginica  & 128 & 0.1 & 3\\\\\n",
       "\t149 & virginica  & 149 & 0.1 & 3\\\\\n",
       "\\end{tabular}\n"
      ],
      "text/markdown": [
       "\n",
       "A data.frame: 15 × 4\n",
       "\n",
       "| <!--/--> | Species &lt;fct&gt; | ID_unit &lt;int&gt; | Prob &lt;dbl&gt; | Stratum &lt;int&gt; |\n",
       "|---|---|---|---|---|\n",
       "| 3 | setosa     |   3 | 0.1 | 1 |\n",
       "| 14 | setosa     |  14 | 0.1 | 1 |\n",
       "| 15 | setosa     |  15 | 0.1 | 1 |\n",
       "| 31 | setosa     |  31 | 0.1 | 1 |\n",
       "| 42 | setosa     |  42 | 0.1 | 1 |\n",
       "| 64 | versicolor |  64 | 0.1 | 2 |\n",
       "| 75 | versicolor |  75 | 0.1 | 2 |\n",
       "| 87 | versicolor |  87 | 0.1 | 2 |\n",
       "| 93 | versicolor |  93 | 0.1 | 2 |\n",
       "| 100 | versicolor | 100 | 0.1 | 2 |\n",
       "| 105 | virginica  | 105 | 0.1 | 3 |\n",
       "| 126 | virginica  | 126 | 0.1 | 3 |\n",
       "| 127 | virginica  | 127 | 0.1 | 3 |\n",
       "| 128 | virginica  | 128 | 0.1 | 3 |\n",
       "| 149 | virginica  | 149 | 0.1 | 3 |\n",
       "\n"
      ],
      "text/plain": [
       "    Species    ID_unit Prob Stratum\n",
       "3   setosa       3     0.1  1      \n",
       "14  setosa      14     0.1  1      \n",
       "15  setosa      15     0.1  1      \n",
       "31  setosa      31     0.1  1      \n",
       "42  setosa      42     0.1  1      \n",
       "64  versicolor  64     0.1  2      \n",
       "75  versicolor  75     0.1  2      \n",
       "87  versicolor  87     0.1  2      \n",
       "93  versicolor  93     0.1  2      \n",
       "100 versicolor 100     0.1  2      \n",
       "105 virginica  105     0.1  3      \n",
       "126 virginica  126     0.1  3      \n",
       "127 virginica  127     0.1  3      \n",
       "128 virginica  128     0.1  3      \n",
       "149 virginica  149     0.1  3      "
      ]
     },
     "metadata": {},
     "output_type": "display_data"
    }
   ],
   "source": [
    "# amostragem estratificada\n",
    "set.seed(123) \n",
    "\n",
    "amostra_estratificada <- strata(\n",
    "  iris,                    \n",
    "  stratanames = \"Species\",  \n",
    "  size = c(5, 5, 5),        \n",
    "  method = \"srswor\"         \n",
    ")\n",
    "\n",
    "amostra_estratificada"
   ]
  },
  {
   "cell_type": "code",
   "execution_count": 19,
   "id": "2e115de9-0b3c-470e-a200-fb83c06c69f9",
   "metadata": {},
   "outputs": [
    {
     "data": {
      "text/plain": [
       "\n",
       "    setosa versicolor  virginica \n",
       "         5          5          5 "
      ]
     },
     "metadata": {},
     "output_type": "display_data"
    },
    {
     "data": {
      "text/html": [
       "<table class=\"dataframe\">\n",
       "<caption>A data.frame: 6 × 8</caption>\n",
       "<thead>\n",
       "\t<tr><th></th><th scope=col>Sepal.Length</th><th scope=col>Sepal.Width</th><th scope=col>Petal.Length</th><th scope=col>Petal.Width</th><th scope=col>Species</th><th scope=col>ID_unit</th><th scope=col>Prob</th><th scope=col>Stratum</th></tr>\n",
       "\t<tr><th></th><th scope=col>&lt;dbl&gt;</th><th scope=col>&lt;dbl&gt;</th><th scope=col>&lt;dbl&gt;</th><th scope=col>&lt;dbl&gt;</th><th scope=col>&lt;fct&gt;</th><th scope=col>&lt;int&gt;</th><th scope=col>&lt;dbl&gt;</th><th scope=col>&lt;int&gt;</th></tr>\n",
       "</thead>\n",
       "<tbody>\n",
       "\t<tr><th scope=row>3</th><td>4.7</td><td>3.2</td><td>1.3</td><td>0.2</td><td>setosa    </td><td> 3</td><td>0.1</td><td>1</td></tr>\n",
       "\t<tr><th scope=row>14</th><td>4.3</td><td>3.0</td><td>1.1</td><td>0.1</td><td>setosa    </td><td>14</td><td>0.1</td><td>1</td></tr>\n",
       "\t<tr><th scope=row>15</th><td>5.8</td><td>4.0</td><td>1.2</td><td>0.2</td><td>setosa    </td><td>15</td><td>0.1</td><td>1</td></tr>\n",
       "\t<tr><th scope=row>31</th><td>4.8</td><td>3.1</td><td>1.6</td><td>0.2</td><td>setosa    </td><td>31</td><td>0.1</td><td>1</td></tr>\n",
       "\t<tr><th scope=row>42</th><td>4.5</td><td>2.3</td><td>1.3</td><td>0.3</td><td>setosa    </td><td>42</td><td>0.1</td><td>1</td></tr>\n",
       "\t<tr><th scope=row>64</th><td>6.1</td><td>2.9</td><td>4.7</td><td>1.4</td><td>versicolor</td><td>64</td><td>0.1</td><td>2</td></tr>\n",
       "</tbody>\n",
       "</table>\n"
      ],
      "text/latex": [
       "A data.frame: 6 × 8\n",
       "\\begin{tabular}{r|llllllll}\n",
       "  & Sepal.Length & Sepal.Width & Petal.Length & Petal.Width & Species & ID\\_unit & Prob & Stratum\\\\\n",
       "  & <dbl> & <dbl> & <dbl> & <dbl> & <fct> & <int> & <dbl> & <int>\\\\\n",
       "\\hline\n",
       "\t3 & 4.7 & 3.2 & 1.3 & 0.2 & setosa     &  3 & 0.1 & 1\\\\\n",
       "\t14 & 4.3 & 3.0 & 1.1 & 0.1 & setosa     & 14 & 0.1 & 1\\\\\n",
       "\t15 & 5.8 & 4.0 & 1.2 & 0.2 & setosa     & 15 & 0.1 & 1\\\\\n",
       "\t31 & 4.8 & 3.1 & 1.6 & 0.2 & setosa     & 31 & 0.1 & 1\\\\\n",
       "\t42 & 4.5 & 2.3 & 1.3 & 0.3 & setosa     & 42 & 0.1 & 1\\\\\n",
       "\t64 & 6.1 & 2.9 & 4.7 & 1.4 & versicolor & 64 & 0.1 & 2\\\\\n",
       "\\end{tabular}\n"
      ],
      "text/markdown": [
       "\n",
       "A data.frame: 6 × 8\n",
       "\n",
       "| <!--/--> | Sepal.Length &lt;dbl&gt; | Sepal.Width &lt;dbl&gt; | Petal.Length &lt;dbl&gt; | Petal.Width &lt;dbl&gt; | Species &lt;fct&gt; | ID_unit &lt;int&gt; | Prob &lt;dbl&gt; | Stratum &lt;int&gt; |\n",
       "|---|---|---|---|---|---|---|---|---|\n",
       "| 3 | 4.7 | 3.2 | 1.3 | 0.2 | setosa     |  3 | 0.1 | 1 |\n",
       "| 14 | 4.3 | 3.0 | 1.1 | 0.1 | setosa     | 14 | 0.1 | 1 |\n",
       "| 15 | 5.8 | 4.0 | 1.2 | 0.2 | setosa     | 15 | 0.1 | 1 |\n",
       "| 31 | 4.8 | 3.1 | 1.6 | 0.2 | setosa     | 31 | 0.1 | 1 |\n",
       "| 42 | 4.5 | 2.3 | 1.3 | 0.3 | setosa     | 42 | 0.1 | 1 |\n",
       "| 64 | 6.1 | 2.9 | 4.7 | 1.4 | versicolor | 64 | 0.1 | 2 |\n",
       "\n"
      ],
      "text/plain": [
       "   Sepal.Length Sepal.Width Petal.Length Petal.Width Species    ID_unit Prob\n",
       "3  4.7          3.2         1.3          0.2         setosa      3      0.1 \n",
       "14 4.3          3.0         1.1          0.1         setosa     14      0.1 \n",
       "15 5.8          4.0         1.2          0.2         setosa     15      0.1 \n",
       "31 4.8          3.1         1.6          0.2         setosa     31      0.1 \n",
       "42 4.5          2.3         1.3          0.3         setosa     42      0.1 \n",
       "64 6.1          2.9         4.7          1.4         versicolor 64      0.1 \n",
       "   Stratum\n",
       "3  1      \n",
       "14 1      \n",
       "15 1      \n",
       "31 1      \n",
       "42 1      \n",
       "64 2      "
      ]
     },
     "metadata": {},
     "output_type": "display_data"
    }
   ],
   "source": [
    "# composição da amostra\n",
    "table(amostra_estratificada$Species)\n",
    "head(getdata(iris, amostra_estratificada))\n"
   ]
  }
 ],
 "metadata": {
  "kernelspec": {
   "display_name": "R",
   "language": "R",
   "name": "ir"
  },
  "language_info": {
   "codemirror_mode": "r",
   "file_extension": ".r",
   "mimetype": "text/x-r-source",
   "name": "R",
   "pygments_lexer": "r",
   "version": "4.3.1"
  }
 },
 "nbformat": 4,
 "nbformat_minor": 5
}
