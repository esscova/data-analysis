{
 "cells": [
  {
   "cell_type": "markdown",
   "id": "7fb6ee48-8635-4350-b03c-7c8a79ba7988",
   "metadata": {},
   "source": [
    "# Exercícios em R sobre Amostragem"
   ]
  },
  {
   "cell_type": "markdown",
   "id": "5ae3646e-6c0c-400e-8d6d-7c669956af13",
   "metadata": {
    "jp-MarkdownHeadingCollapsed": true
   },
   "source": [
    "### Exercício 1: Amostragem Simples Aleatória\n",
    "\n",
    "**Objetivo:** Realizar uma amostragem simples aleatória com e sem reposição na base de dados **`iris`**.\n",
    "\n",
    "### Tarefa 1.1:\n",
    "\n",
    "1. Carregue a base de dados `iris`.\n",
    "2. Realize uma amostragem simples aleatória de 20 observações **com reposição** da base `iris`.\n",
    "3. Realize uma amostragem simples aleatória de 20 observações **sem reposição** da base `iris`.\n",
    "4. Compare as duas amostras, verificando se há elementos repetidos na amostra com reposição.\n",
    "\n",
    "### Dicas:\n",
    "\n",
    "- Use a função `sample()` para realizar a amostragem.\n",
    "- Lembre-se de usar o parâmetro `replace = TRUE` para amostragem com reposição e `replace = FALSE` para amostragem sem reposição."
   ]
  },
  {
   "cell_type": "code",
   "execution_count": 4,
   "id": "2e6bf6cd-9d07-4b4a-a1cc-c9906d54ece1",
   "metadata": {},
   "outputs": [],
   "source": [
    "data(iris)"
   ]
  },
  {
   "cell_type": "code",
   "execution_count": 7,
   "id": "e9a5f7e9-d5c3-4687-b542-9503e6c14d43",
   "metadata": {},
   "outputs": [
    {
     "data": {
      "text/html": [
       "<table class=\"dataframe\">\n",
       "<caption>A data.frame: 6 × 5</caption>\n",
       "<thead>\n",
       "\t<tr><th></th><th scope=col>Sepal.Length</th><th scope=col>Sepal.Width</th><th scope=col>Petal.Length</th><th scope=col>Petal.Width</th><th scope=col>Species</th></tr>\n",
       "\t<tr><th></th><th scope=col>&lt;dbl&gt;</th><th scope=col>&lt;dbl&gt;</th><th scope=col>&lt;dbl&gt;</th><th scope=col>&lt;dbl&gt;</th><th scope=col>&lt;fct&gt;</th></tr>\n",
       "</thead>\n",
       "<tbody>\n",
       "\t<tr><th scope=row>18</th><td>5.1</td><td>3.5</td><td>1.4</td><td>0.3</td><td>setosa    </td></tr>\n",
       "\t<tr><th scope=row>65</th><td>5.6</td><td>2.9</td><td>3.6</td><td>1.3</td><td>versicolor</td></tr>\n",
       "\t<tr><th scope=row>32</th><td>5.4</td><td>3.4</td><td>1.5</td><td>0.4</td><td>setosa    </td></tr>\n",
       "\t<tr><th scope=row>139</th><td>6.0</td><td>3.0</td><td>4.8</td><td>1.8</td><td>virginica </td></tr>\n",
       "\t<tr><th scope=row>104</th><td>6.3</td><td>2.9</td><td>5.6</td><td>1.8</td><td>virginica </td></tr>\n",
       "\t<tr><th scope=row>141</th><td>6.7</td><td>3.1</td><td>5.6</td><td>2.4</td><td>virginica </td></tr>\n",
       "</tbody>\n",
       "</table>\n"
      ],
      "text/latex": [
       "A data.frame: 6 × 5\n",
       "\\begin{tabular}{r|lllll}\n",
       "  & Sepal.Length & Sepal.Width & Petal.Length & Petal.Width & Species\\\\\n",
       "  & <dbl> & <dbl> & <dbl> & <dbl> & <fct>\\\\\n",
       "\\hline\n",
       "\t18 & 5.1 & 3.5 & 1.4 & 0.3 & setosa    \\\\\n",
       "\t65 & 5.6 & 2.9 & 3.6 & 1.3 & versicolor\\\\\n",
       "\t32 & 5.4 & 3.4 & 1.5 & 0.4 & setosa    \\\\\n",
       "\t139 & 6.0 & 3.0 & 4.8 & 1.8 & virginica \\\\\n",
       "\t104 & 6.3 & 2.9 & 5.6 & 1.8 & virginica \\\\\n",
       "\t141 & 6.7 & 3.1 & 5.6 & 2.4 & virginica \\\\\n",
       "\\end{tabular}\n"
      ],
      "text/markdown": [
       "\n",
       "A data.frame: 6 × 5\n",
       "\n",
       "| <!--/--> | Sepal.Length &lt;dbl&gt; | Sepal.Width &lt;dbl&gt; | Petal.Length &lt;dbl&gt; | Petal.Width &lt;dbl&gt; | Species &lt;fct&gt; |\n",
       "|---|---|---|---|---|---|\n",
       "| 18 | 5.1 | 3.5 | 1.4 | 0.3 | setosa     |\n",
       "| 65 | 5.6 | 2.9 | 3.6 | 1.3 | versicolor |\n",
       "| 32 | 5.4 | 3.4 | 1.5 | 0.4 | setosa     |\n",
       "| 139 | 6.0 | 3.0 | 4.8 | 1.8 | virginica  |\n",
       "| 104 | 6.3 | 2.9 | 5.6 | 1.8 | virginica  |\n",
       "| 141 | 6.7 | 3.1 | 5.6 | 2.4 | virginica  |\n",
       "\n"
      ],
      "text/plain": [
       "    Sepal.Length Sepal.Width Petal.Length Petal.Width Species   \n",
       "18  5.1          3.5         1.4          0.3         setosa    \n",
       "65  5.6          2.9         3.6          1.3         versicolor\n",
       "32  5.4          3.4         1.5          0.4         setosa    \n",
       "139 6.0          3.0         4.8          1.8         virginica \n",
       "104 6.3          2.9         5.6          1.8         virginica \n",
       "141 6.7          3.1         5.6          2.4         virginica "
      ]
     },
     "metadata": {},
     "output_type": "display_data"
    },
    {
     "data": {
      "text/html": [
       "<style>\n",
       ".list-inline {list-style: none; margin:0; padding: 0}\n",
       ".list-inline>li {display: inline-block}\n",
       ".list-inline>li:not(:last-child)::after {content: \"\\00b7\"; padding: 0 .5ex}\n",
       "</style>\n",
       "<ol class=list-inline><li>20</li><li>5</li></ol>\n"
      ],
      "text/latex": [
       "\\begin{enumerate*}\n",
       "\\item 20\n",
       "\\item 5\n",
       "\\end{enumerate*}\n"
      ],
      "text/markdown": [
       "1. 20\n",
       "2. 5\n",
       "\n",
       "\n"
      ],
      "text/plain": [
       "[1] 20  5"
      ]
     },
     "metadata": {},
     "output_type": "display_data"
    }
   ],
   "source": [
    "tam_amostra <- 20\n",
    "amostra_simples_com_reposicao <- iris[sample(1:nrow(iris), tam_amostra, replace = TRUE), ]\n",
    "head(amostra_simples_com_reposicao)\n",
    "dim(amostra_simples_com_reposicao)"
   ]
  },
  {
   "cell_type": "code",
   "execution_count": 9,
   "id": "c0b6e5fe-42a1-4d8b-a677-dfe6b96ff874",
   "metadata": {},
   "outputs": [
    {
     "data": {
      "text/html": [
       "<table class=\"dataframe\">\n",
       "<caption>A data.frame: 6 × 5</caption>\n",
       "<thead>\n",
       "\t<tr><th></th><th scope=col>Sepal.Length</th><th scope=col>Sepal.Width</th><th scope=col>Petal.Length</th><th scope=col>Petal.Width</th><th scope=col>Species</th></tr>\n",
       "\t<tr><th></th><th scope=col>&lt;dbl&gt;</th><th scope=col>&lt;dbl&gt;</th><th scope=col>&lt;dbl&gt;</th><th scope=col>&lt;dbl&gt;</th><th scope=col>&lt;fct&gt;</th></tr>\n",
       "</thead>\n",
       "<tbody>\n",
       "\t<tr><th scope=row>54</th><td>5.5</td><td>2.3</td><td>4.0</td><td>1.3</td><td>versicolor</td></tr>\n",
       "\t<tr><th scope=row>127</th><td>6.2</td><td>2.8</td><td>4.8</td><td>1.8</td><td>virginica </td></tr>\n",
       "\t<tr><th scope=row>51</th><td>7.0</td><td>3.2</td><td>4.7</td><td>1.4</td><td>versicolor</td></tr>\n",
       "\t<tr><th scope=row>17</th><td>5.4</td><td>3.9</td><td>1.3</td><td>0.4</td><td>setosa    </td></tr>\n",
       "\t<tr><th scope=row>81</th><td>5.5</td><td>2.4</td><td>3.8</td><td>1.1</td><td>versicolor</td></tr>\n",
       "\t<tr><th scope=row>138</th><td>6.4</td><td>3.1</td><td>5.5</td><td>1.8</td><td>virginica </td></tr>\n",
       "</tbody>\n",
       "</table>\n"
      ],
      "text/latex": [
       "A data.frame: 6 × 5\n",
       "\\begin{tabular}{r|lllll}\n",
       "  & Sepal.Length & Sepal.Width & Petal.Length & Petal.Width & Species\\\\\n",
       "  & <dbl> & <dbl> & <dbl> & <dbl> & <fct>\\\\\n",
       "\\hline\n",
       "\t54 & 5.5 & 2.3 & 4.0 & 1.3 & versicolor\\\\\n",
       "\t127 & 6.2 & 2.8 & 4.8 & 1.8 & virginica \\\\\n",
       "\t51 & 7.0 & 3.2 & 4.7 & 1.4 & versicolor\\\\\n",
       "\t17 & 5.4 & 3.9 & 1.3 & 0.4 & setosa    \\\\\n",
       "\t81 & 5.5 & 2.4 & 3.8 & 1.1 & versicolor\\\\\n",
       "\t138 & 6.4 & 3.1 & 5.5 & 1.8 & virginica \\\\\n",
       "\\end{tabular}\n"
      ],
      "text/markdown": [
       "\n",
       "A data.frame: 6 × 5\n",
       "\n",
       "| <!--/--> | Sepal.Length &lt;dbl&gt; | Sepal.Width &lt;dbl&gt; | Petal.Length &lt;dbl&gt; | Petal.Width &lt;dbl&gt; | Species &lt;fct&gt; |\n",
       "|---|---|---|---|---|---|\n",
       "| 54 | 5.5 | 2.3 | 4.0 | 1.3 | versicolor |\n",
       "| 127 | 6.2 | 2.8 | 4.8 | 1.8 | virginica  |\n",
       "| 51 | 7.0 | 3.2 | 4.7 | 1.4 | versicolor |\n",
       "| 17 | 5.4 | 3.9 | 1.3 | 0.4 | setosa     |\n",
       "| 81 | 5.5 | 2.4 | 3.8 | 1.1 | versicolor |\n",
       "| 138 | 6.4 | 3.1 | 5.5 | 1.8 | virginica  |\n",
       "\n"
      ],
      "text/plain": [
       "    Sepal.Length Sepal.Width Petal.Length Petal.Width Species   \n",
       "54  5.5          2.3         4.0          1.3         versicolor\n",
       "127 6.2          2.8         4.8          1.8         virginica \n",
       "51  7.0          3.2         4.7          1.4         versicolor\n",
       "17  5.4          3.9         1.3          0.4         setosa    \n",
       "81  5.5          2.4         3.8          1.1         versicolor\n",
       "138 6.4          3.1         5.5          1.8         virginica "
      ]
     },
     "metadata": {},
     "output_type": "display_data"
    },
    {
     "data": {
      "text/html": [
       "<style>\n",
       ".list-inline {list-style: none; margin:0; padding: 0}\n",
       ".list-inline>li {display: inline-block}\n",
       ".list-inline>li:not(:last-child)::after {content: \"\\00b7\"; padding: 0 .5ex}\n",
       "</style>\n",
       "<ol class=list-inline><li>20</li><li>5</li></ol>\n"
      ],
      "text/latex": [
       "\\begin{enumerate*}\n",
       "\\item 20\n",
       "\\item 5\n",
       "\\end{enumerate*}\n"
      ],
      "text/markdown": [
       "1. 20\n",
       "2. 5\n",
       "\n",
       "\n"
      ],
      "text/plain": [
       "[1] 20  5"
      ]
     },
     "metadata": {},
     "output_type": "display_data"
    }
   ],
   "source": [
    "amostra_simples_sem_reposicao <- iris[sample(1:nrow(iris), tam_amostra, replace = FALSE),]\n",
    "head(amostra_simples_sem_reposicao)\n",
    "dim(amostra_simples_sem_reposicao)"
   ]
  },
  {
   "cell_type": "code",
   "execution_count": 11,
   "id": "73929111-36fd-4217-9bf9-13f92be7c5bd",
   "metadata": {},
   "outputs": [
    {
     "data": {
      "text/html": [
       "FALSE"
      ],
      "text/latex": [
       "FALSE"
      ],
      "text/markdown": [
       "FALSE"
      ],
      "text/plain": [
       "[1] FALSE"
      ]
     },
     "metadata": {},
     "output_type": "display_data"
    }
   ],
   "source": [
    "identical(amostra_simples_com_reposicao,amostra_simples_sem_reposicao)"
   ]
  },
  {
   "cell_type": "markdown",
   "id": "8729d708-092d-408f-ba99-39abde8dfc2e",
   "metadata": {},
   "source": [
    "### Exercício 2: Amostragem Sistemática\n",
    "\n",
    "**Objetivo:** Realizar uma amostragem sistemática da base de dados **`iris`**.\n",
    "\n",
    "### Tarefa 2.1:\n",
    "\n",
    "1. Carregue a base de dados `iris`.\n",
    "2. Selecione uma amostra sistemática de 30 observações da base `iris`, com um intervalo de seleção de 5.\n",
    "3. Alterando o valor do intervalo, selecione amostras de 20 e 40 observações.\n",
    "4. Compare as amostras geradas com diferentes intervalos e explique como o intervalo afeta o processo de amostragem.\n",
    "\n",
    "### Dicas:\n",
    "\n",
    "- Calcule o intervalo de amostragem dividindo o número de observações pela quantidade de amostras desejadas.\n",
    "- Use `seq()` para realizar a seleção sistemática."
   ]
  }
 ],
 "metadata": {
  "kernelspec": {
   "display_name": "R",
   "language": "R",
   "name": "ir"
  },
  "language_info": {
   "codemirror_mode": "r",
   "file_extension": ".r",
   "mimetype": "text/x-r-source",
   "name": "R",
   "pygments_lexer": "r",
   "version": "4.3.1"
  }
 },
 "nbformat": 4,
 "nbformat_minor": 5
}
